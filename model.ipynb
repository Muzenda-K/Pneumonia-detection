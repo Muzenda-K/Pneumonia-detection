{
 "cells": [
  {
   "cell_type": "code",
   "execution_count": 3,
   "id": "e3a75c11-a0d2-4017-be50-b46455cb98b9",
   "metadata": {},
   "outputs": [],
   "source": [
    "import torch\n",
    "import torch.nn as nn\n",
    "from torchvision import models\n",
    "\n",
    "class DenseNet121Pneumonia(nn.Module):\n",
    "    def __init__(self, pretrained=True):\n",
    "        super(DenseNet121Pneumonia, self).__init__()\n",
    "        self.model = models.densenet121(pretrained=pretrained)\n",
    "\n",
    "        # Change first conv layer to accept 1 channel instead of 3\n",
    "        self.model.features.conv0 = nn.Conv2d(\n",
    "            in_channels=1,\n",
    "            out_channels=64,\n",
    "            kernel_size=7,\n",
    "            stride=2,\n",
    "            padding=3,\n",
    "            bias=False\n",
    "        )\n",
    "\n",
    "        # Modify classifier for binary classification\n",
    "        self.model.classifier = nn.Linear(in_features=1024, out_features=2)\n",
    "\n",
    "    def forward(self, x):\n",
    "        return self.model(x)\n",
    "\n",
    "def get_model(device='cuda'):\n",
    "    \"\"\"\n",
    "    Returns the model initialized and moved to the specified device.\n",
    "    \"\"\"\n",
    "    model = DenseNet121Pneumonia(pretrained=True)\n",
    "    \n",
    "    # Move model to GPU if available\n",
    "    model = model.to(device)\n",
    "    \n",
    "    return model"
   ]
  },
  {
   "cell_type": "code",
   "execution_count": null,
   "id": "9358c268-cbd7-46a0-a247-3eda23876861",
   "metadata": {},
   "outputs": [],
   "source": []
  }
 ],
 "metadata": {
  "kernelspec": {
   "display_name": "Python 3 (ipykernel)",
   "language": "python",
   "name": "python3"
  },
  "language_info": {
   "codemirror_mode": {
    "name": "ipython",
    "version": 3
   },
   "file_extension": ".py",
   "mimetype": "text/x-python",
   "name": "python",
   "nbconvert_exporter": "python",
   "pygments_lexer": "ipython3",
   "version": "3.12.10"
  }
 },
 "nbformat": 4,
 "nbformat_minor": 5
}
