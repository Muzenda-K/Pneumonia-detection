{
 "cells": [
  {
   "cell_type": "code",
   "execution_count": 2,
   "id": "65c14d09-d2b5-4b03-94cd-d8080e4cb100",
   "metadata": {},
   "outputs": [
    {
     "name": "stderr",
     "output_type": "stream",
     "text": [
      "/opt/conda/lib/python3.12/site-packages/torchvision/models/_utils.py:208: UserWarning: The parameter 'pretrained' is deprecated since 0.13 and may be removed in the future, please use 'weights' instead.\n",
      "  warnings.warn(\n",
      "/opt/conda/lib/python3.12/site-packages/torchvision/models/_utils.py:223: UserWarning: Arguments other than a weight enum or `None` for 'weights' are deprecated since 0.13 and may be removed in the future. The current behavior is equivalent to passing `weights=DenseNet121_Weights.IMAGENET1K_V1`. You can also use `weights=DenseNet121_Weights.DEFAULT` to get the most up-to-date weights.\n",
      "  warnings.warn(msg)\n"
     ]
    },
    {
     "name": "stdout",
     "output_type": "stream",
     "text": [
      "✅ DataLoaders created successfully!\n",
      "\n",
      "Epoch 1/30\n"
     ]
    },
    {
     "name": "stderr",
     "output_type": "stream",
     "text": [
      "                                               "
     ]
    },
    {
     "name": "stdout",
     "output_type": "stream",
     "text": [
      "Train Loss: 0.1508 | Acc: 0.9469\n",
      "Val Loss: 0.9680 | Acc: 0.5625\n",
      "✅ Saved Best Model!\n",
      "\n",
      "Epoch 2/30\n"
     ]
    },
    {
     "name": "stderr",
     "output_type": "stream",
     "text": [
      "                                               "
     ]
    },
    {
     "name": "stdout",
     "output_type": "stream",
     "text": [
      "Train Loss: 0.1002 | Acc: 0.9628\n",
      "Val Loss: 0.6887 | Acc: 0.6875\n",
      "✅ Saved Best Model!\n",
      "\n",
      "Epoch 3/30\n"
     ]
    },
    {
     "name": "stderr",
     "output_type": "stream",
     "text": [
      "                                               "
     ]
    },
    {
     "name": "stdout",
     "output_type": "stream",
     "text": [
      "Train Loss: 0.0754 | Acc: 0.9712\n",
      "Val Loss: 0.5983 | Acc: 0.6875\n",
      "⏳ No improvement. Early stopping counter: 1/5\n",
      "\n",
      "Epoch 4/30\n"
     ]
    },
    {
     "name": "stderr",
     "output_type": "stream",
     "text": [
      "                                               "
     ]
    },
    {
     "name": "stdout",
     "output_type": "stream",
     "text": [
      "Train Loss: 0.0722 | Acc: 0.9741\n",
      "Val Loss: 0.5211 | Acc: 0.7500\n",
      "✅ Saved Best Model!\n",
      "\n",
      "Epoch 5/30\n"
     ]
    },
    {
     "name": "stderr",
     "output_type": "stream",
     "text": [
      "                                               "
     ]
    },
    {
     "name": "stdout",
     "output_type": "stream",
     "text": [
      "Train Loss: 0.0595 | Acc: 0.9793\n",
      "Val Loss: 0.1965 | Acc: 0.9375\n",
      "✅ Saved Best Model!\n",
      "\n",
      "Epoch 6/30\n"
     ]
    },
    {
     "name": "stderr",
     "output_type": "stream",
     "text": [
      "                                               "
     ]
    },
    {
     "name": "stdout",
     "output_type": "stream",
     "text": [
      "Train Loss: 0.0587 | Acc: 0.9787\n",
      "Val Loss: 0.5143 | Acc: 0.7500\n",
      "⏳ No improvement. Early stopping counter: 1/5\n",
      "\n",
      "Epoch 7/30\n"
     ]
    },
    {
     "name": "stderr",
     "output_type": "stream",
     "text": [
      "                                               "
     ]
    },
    {
     "name": "stdout",
     "output_type": "stream",
     "text": [
      "Train Loss: 0.0557 | Acc: 0.9803\n",
      "Val Loss: 0.2158 | Acc: 0.9375\n",
      "⏳ No improvement. Early stopping counter: 2/5\n",
      "\n",
      "Epoch 8/30\n"
     ]
    },
    {
     "name": "stderr",
     "output_type": "stream",
     "text": [
      "                                               "
     ]
    },
    {
     "name": "stdout",
     "output_type": "stream",
     "text": [
      "Train Loss: 0.0498 | Acc: 0.9789\n",
      "Val Loss: 0.3787 | Acc: 0.7500\n",
      "⏳ No improvement. Early stopping counter: 3/5\n",
      "\n",
      "Epoch 9/30\n"
     ]
    },
    {
     "name": "stderr",
     "output_type": "stream",
     "text": [
      "                                               "
     ]
    },
    {
     "name": "stdout",
     "output_type": "stream",
     "text": [
      "Train Loss: 0.0322 | Acc: 0.9879\n",
      "Val Loss: 0.2610 | Acc: 0.9375\n",
      "⏳ No improvement. Early stopping counter: 4/5\n",
      "\n",
      "Epoch 10/30\n"
     ]
    },
    {
     "name": "stderr",
     "output_type": "stream",
     "text": [
      "                                               "
     ]
    },
    {
     "name": "stdout",
     "output_type": "stream",
     "text": [
      "Train Loss: 0.0266 | Acc: 0.9912\n",
      "Val Loss: 0.6893 | Acc: 0.6250\n",
      "⏳ No improvement. Early stopping counter: 5/5\n",
      "🛑 Early stopping triggered.\n",
      "\n",
      "✅ Training Complete.\n",
      "🏆 Best Validation Accuracy: 0.9375\n",
      "\n",
      "Test Accuracy: 0.8494\n",
      "📊 Final Test Accuracy: 0.8494\n"
     ]
    }
   ],
   "source": [
    "import torch\n",
    "import torch.nn as nn\n",
    "import torch.optim as optim\n",
    "from torch.utils.data import DataLoader\n",
    "from model import get_model\n",
    "from data_prep import get_dataloaders\n",
    "from tqdm import tqdm\n",
    "import numpy as np\n",
    "import os\n",
    "\n",
    "# Create directory to save models\n",
    "os.makedirs(\"checkpoints\", exist_ok=True)\n",
    "\n",
    "def train_one_epoch(model, dataloader, criterion, optimizer, device):\n",
    "    model.train()\n",
    "    running_loss = 0.0\n",
    "    correct = 0\n",
    "    total = 0\n",
    "\n",
    "    for images, labels in tqdm(dataloader, desc=\"Training\", leave=False):\n",
    "        images = images.to(device)\n",
    "        labels = labels.to(device)\n",
    "\n",
    "        optimizer.zero_grad()\n",
    "        outputs = model(images)\n",
    "        loss = criterion(outputs, labels)\n",
    "        loss.backward()\n",
    "        optimizer.step()\n",
    "\n",
    "        running_loss += loss.item() * images.size(0)\n",
    "        _, preds = torch.max(outputs, 1)\n",
    "        correct += (preds == labels).sum().item()\n",
    "        total += labels.size(0)\n",
    "\n",
    "    epoch_loss = running_loss / total\n",
    "    epoch_acc = correct / total\n",
    "\n",
    "    return epoch_loss, epoch_acc\n",
    "\n",
    "\n",
    "def validate(model, dataloader, criterion, device):\n",
    "    model.eval()\n",
    "    running_loss = 0.0\n",
    "    correct = 0\n",
    "    total = 0\n",
    "\n",
    "    with torch.no_grad():\n",
    "        for images, labels in tqdm(dataloader, desc=\"Validating\", leave=False):\n",
    "            images = images.to(device)\n",
    "            labels = labels.to(device)\n",
    "\n",
    "            outputs = model(images)\n",
    "            loss = criterion(outputs, labels)\n",
    "\n",
    "            running_loss += loss.item() * images.size(0)\n",
    "            _, preds = torch.max(outputs, 1)\n",
    "            correct += (preds == labels).sum().item()\n",
    "            total += labels.size(0)\n",
    "\n",
    "    epoch_loss = running_loss / total\n",
    "    epoch_acc = correct / total\n",
    "\n",
    "    return epoch_loss, epoch_acc\n",
    "\n",
    "\n",
    "def evaluate(model, dataloader, device):\n",
    "    model.eval()\n",
    "    correct = 0\n",
    "    total = 0\n",
    "    y_true = []\n",
    "    y_pred = []\n",
    "\n",
    "    with torch.no_grad():\n",
    "        for images, labels in dataloader:\n",
    "            images = images.to(device)\n",
    "            labels = labels.to(device)\n",
    "            outputs = model(images)\n",
    "            _, preds = torch.max(outputs, 1)\n",
    "\n",
    "            total += labels.size(0)\n",
    "            correct += (preds == labels).sum().item()\n",
    "            y_true.extend(labels.cpu().numpy())\n",
    "            y_pred.extend(preds.cpu().numpy())\n",
    "\n",
    "    acc = correct / total\n",
    "    print(f\"\\nTest Accuracy: {acc:.4f}\")\n",
    "    return acc, y_true, y_pred\n",
    "\n",
    "\n",
    "def train_model(model, train_loader, val_loader, test_loader, num_epochs=20, lr=3e-4, patience=5):\n",
    "    device = torch.device(\"cuda\" if torch.cuda.is_available() else \"cpu\")\n",
    "    model = model.to(device)\n",
    "\n",
    "    criterion = nn.CrossEntropyLoss()\n",
    "    optimizer = optim.Adam(model.parameters(), lr=lr)\n",
    "    scheduler = optim.lr_scheduler.ReduceLROnPlateau(optimizer, mode='min', factor=0.5, patience=2)\n",
    "\n",
    "    best_val_acc = 0.0\n",
    "    early_stop_counter = 0\n",
    "\n",
    "    for epoch in range(num_epochs):\n",
    "        print(f\"\\nEpoch {epoch+1}/{num_epochs}\")\n",
    "        train_loss, train_acc = train_one_epoch(model, train_loader, criterion, optimizer, device)\n",
    "        val_loss, val_acc = validate(model, val_loader, criterion, device)\n",
    "\n",
    "        print(f\"Train Loss: {train_loss:.4f} | Acc: {train_acc:.4f}\")\n",
    "        print(f\"Val Loss: {val_loss:.4f} | Acc: {val_acc:.4f}\")\n",
    "\n",
    "        # Learning rate scheduling\n",
    "        scheduler.step(val_loss)\n",
    "\n",
    "        # Save best model\n",
    "        if val_acc > best_val_acc:\n",
    "            best_val_acc = val_acc\n",
    "            torch.save(model.state_dict(), \"checkpoints/best_densenet121_pneumonia.pth\")\n",
    "            print(\"✅ Saved Best Model!\")\n",
    "            early_stop_counter = 0\n",
    "        else:\n",
    "            early_stop_counter += 1\n",
    "            print(f\"⏳ No improvement. Early stopping counter: {early_stop_counter}/{patience}\")\n",
    "\n",
    "            if early_stop_counter >= patience:\n",
    "                print(\"🛑 Early stopping triggered.\")\n",
    "                break\n",
    "\n",
    "    print(\"\\n✅ Training Complete.\")\n",
    "    print(f\"🏆 Best Validation Accuracy: {best_val_acc:.4f}\")\n",
    "\n",
    "    # Load best model and evaluate on test set\n",
    "    model.load_state_dict(torch.load(\"checkpoints/best_densenet121_pneumonia.pth\"))\n",
    "    test_acc, y_true, y_pred = evaluate(model, test_loader, device)\n",
    "    print(f\"📊 Final Test Accuracy: {test_acc:.4f}\")\n",
    "\n",
    "    return model\n",
    "\n",
    "\n",
    "if __name__ == \"__main__\":\n",
    "    device = \"cuda\" if torch.cuda.is_available else \"cpu\"\n",
    "\n",
    "    # Dataloaders\n",
    "    train_loader, val_loader, test_loader = get_dataloaders()\n",
    "\n",
    "    # Get model\n",
    "    model = get_model()\n",
    "\n",
    "    # Start training\n",
    "    trained_model = train_model(\n",
    "        model,\n",
    "        train_loader,\n",
    "        val_loader,\n",
    "        test_loader,\n",
    "        num_epochs=30,\n",
    "        lr=1e-4,\n",
    "        patience=5\n",
    "    )"
   ]
  },
  {
   "cell_type": "raw",
   "id": "ebd9953e-d317-4237-aa42-7f4d42b94684",
   "metadata": {},
   "source": [
    "device = \"cuda\" if torch.cuda.is_available else \"cpu\"\n",
    "\n",
    "def evaluate(model, dataloader, device):\n",
    "    model.eval()\n",
    "    correct = 0\n",
    "    total = 0\n",
    "    with torch.no_grad():\n",
    "        for images, labels in dataloader:\n",
    "            images = images.to(device)\n",
    "            labels = labels.to(device)\n",
    "            outputs = model(images)\n",
    "            _, preds = torch.max(outputs, 1)\n",
    "            correct += (preds == labels).sum().item()\n",
    "            total += labels.size(0)\n",
    "    print(f\"Test Accuracy: {correct / total:.4f}\")\n",
    "\n",
    "# At the bottom of your script\n",
    "evaluate(model, test_loader, device)"
   ]
  },
  {
   "cell_type": "markdown",
   "id": "5232b1ce-7239-4ecc-a100-f3b697ccd43a",
   "metadata": {},
   "source": [
    "# Train 2"
   ]
  },
  {
   "cell_type": "code",
   "execution_count": 4,
   "id": "8cd2d258-2834-4634-8659-97fb6459ce95",
   "metadata": {
    "scrolled": true
   },
   "outputs": [
    {
     "name": "stdout",
     "output_type": "stream",
     "text": [
      "✅ DataLoaders created successfully!\n"
     ]
    },
    {
     "name": "stderr",
     "output_type": "stream",
     "text": [
      "/opt/conda/lib/python3.12/site-packages/torchvision/models/_utils.py:208: UserWarning: The parameter 'pretrained' is deprecated since 0.13 and may be removed in the future, please use 'weights' instead.\n",
      "  warnings.warn(\n",
      "/opt/conda/lib/python3.12/site-packages/torchvision/models/_utils.py:223: UserWarning: Arguments other than a weight enum or `None` for 'weights' are deprecated since 0.13 and may be removed in the future. The current behavior is equivalent to passing `weights=DenseNet121_Weights.IMAGENET1K_V1`. You can also use `weights=DenseNet121_Weights.DEFAULT` to get the most up-to-date weights.\n",
      "  warnings.warn(msg)\n"
     ]
    },
    {
     "name": "stdout",
     "output_type": "stream",
     "text": [
      "\n",
      "--- Fold 1/5 ---\n"
     ]
    },
    {
     "name": "stderr",
     "output_type": "stream",
     "text": [
      "                                             "
     ]
    },
    {
     "name": "stdout",
     "output_type": "stream",
     "text": [
      "Epoch 1/60: Train Loss: 0.3645 | Train Acc: 0.8437 | Val Loss: 0.5558 | Val Acc: 0.6960\n"
     ]
    },
    {
     "name": "stderr",
     "output_type": "stream",
     "text": [
      "                                             "
     ]
    },
    {
     "name": "stdout",
     "output_type": "stream",
     "text": [
      "Epoch 2/60: Train Loss: 0.1872 | Train Acc: 0.9719 | Val Loss: 0.5399 | Val Acc: 0.6960\n"
     ]
    },
    {
     "name": "stderr",
     "output_type": "stream",
     "text": [
      "                                             "
     ]
    },
    {
     "name": "stdout",
     "output_type": "stream",
     "text": [
      "Epoch 3/60: Train Loss: 0.1654 | Train Acc: 0.9820 | Val Loss: 0.4205 | Val Acc: 0.8160\n"
     ]
    },
    {
     "name": "stderr",
     "output_type": "stream",
     "text": [
      "                                             "
     ]
    },
    {
     "name": "stdout",
     "output_type": "stream",
     "text": [
      "Epoch 4/60: Train Loss: 0.1377 | Train Acc: 0.9960 | Val Loss: 0.2950 | Val Acc: 0.9280\n"
     ]
    },
    {
     "name": "stderr",
     "output_type": "stream",
     "text": [
      "                                             "
     ]
    },
    {
     "name": "stdout",
     "output_type": "stream",
     "text": [
      "Epoch 5/60: Train Loss: 0.1289 | Train Acc: 1.0000 | Val Loss: 0.2766 | Val Acc: 0.9120\n"
     ]
    },
    {
     "name": "stderr",
     "output_type": "stream",
     "text": [
      "                                             "
     ]
    },
    {
     "name": "stdout",
     "output_type": "stream",
     "text": [
      "Epoch 6/60: Train Loss: 0.1334 | Train Acc: 0.9960 | Val Loss: 0.2710 | Val Acc: 0.9200\n"
     ]
    },
    {
     "name": "stderr",
     "output_type": "stream",
     "text": [
      "                                             "
     ]
    },
    {
     "name": "stdout",
     "output_type": "stream",
     "text": [
      "Epoch 7/60: Train Loss: 0.1259 | Train Acc: 1.0000 | Val Loss: 0.2788 | Val Acc: 0.9120\n"
     ]
    },
    {
     "name": "stderr",
     "output_type": "stream",
     "text": [
      "                                             "
     ]
    },
    {
     "name": "stdout",
     "output_type": "stream",
     "text": [
      "Epoch 8/60: Train Loss: 0.1291 | Train Acc: 1.0000 | Val Loss: 0.2871 | Val Acc: 0.9120\n"
     ]
    },
    {
     "name": "stderr",
     "output_type": "stream",
     "text": [
      "                                             "
     ]
    },
    {
     "name": "stdout",
     "output_type": "stream",
     "text": [
      "Epoch 9/60: Train Loss: 0.1257 | Train Acc: 1.0000 | Val Loss: 0.2842 | Val Acc: 0.9120\n"
     ]
    },
    {
     "name": "stderr",
     "output_type": "stream",
     "text": [
      "                                             "
     ]
    },
    {
     "name": "stdout",
     "output_type": "stream",
     "text": [
      "Epoch 10/60: Train Loss: 0.1227 | Train Acc: 1.0000 | Val Loss: 0.2949 | Val Acc: 0.9040\n"
     ]
    },
    {
     "name": "stderr",
     "output_type": "stream",
     "text": [
      "                                             "
     ]
    },
    {
     "name": "stdout",
     "output_type": "stream",
     "text": [
      "Epoch 11/60: Train Loss: 0.1262 | Train Acc: 1.0000 | Val Loss: 0.2864 | Val Acc: 0.9200\n"
     ]
    },
    {
     "name": "stderr",
     "output_type": "stream",
     "text": [
      "                                             "
     ]
    },
    {
     "name": "stdout",
     "output_type": "stream",
     "text": [
      "Epoch 12/60: Train Loss: 0.1225 | Train Acc: 1.0000 | Val Loss: 0.2915 | Val Acc: 0.9040\n"
     ]
    },
    {
     "name": "stderr",
     "output_type": "stream",
     "text": [
      "                                             "
     ]
    },
    {
     "name": "stdout",
     "output_type": "stream",
     "text": [
      "Epoch 13/60: Train Loss: 0.1236 | Train Acc: 1.0000 | Val Loss: 0.2858 | Val Acc: 0.9120\n"
     ]
    },
    {
     "name": "stderr",
     "output_type": "stream",
     "text": [
      "/opt/conda/lib/python3.12/site-packages/torchvision/models/_utils.py:208: UserWarning: The parameter 'pretrained' is deprecated since 0.13 and may be removed in the future, please use 'weights' instead.\n",
      "  warnings.warn(\n",
      "/opt/conda/lib/python3.12/site-packages/torchvision/models/_utils.py:223: UserWarning: Arguments other than a weight enum or `None` for 'weights' are deprecated since 0.13 and may be removed in the future. The current behavior is equivalent to passing `weights=DenseNet121_Weights.IMAGENET1K_V1`. You can also use `weights=DenseNet121_Weights.DEFAULT` to get the most up-to-date weights.\n",
      "  warnings.warn(msg)\n"
     ]
    },
    {
     "name": "stdout",
     "output_type": "stream",
     "text": [
      "Epoch 14/60: Train Loss: 0.1238 | Train Acc: 1.0000 | Val Loss: 0.2966 | Val Acc: 0.9120\n",
      "🛑 Early stopping at epoch 14\n",
      "✅ Fold 1 Best Accuracy: 0.9280\n",
      "\n",
      "--- Fold 2/5 ---\n"
     ]
    },
    {
     "name": "stderr",
     "output_type": "stream",
     "text": [
      "                                             "
     ]
    },
    {
     "name": "stdout",
     "output_type": "stream",
     "text": [
      "Epoch 1/60: Train Loss: 0.3804 | Train Acc: 0.8517 | Val Loss: 0.6175 | Val Acc: 0.6640\n"
     ]
    },
    {
     "name": "stderr",
     "output_type": "stream",
     "text": [
      "                                             "
     ]
    },
    {
     "name": "stdout",
     "output_type": "stream",
     "text": [
      "Epoch 2/60: Train Loss: 0.2108 | Train Acc: 0.9439 | Val Loss: 0.5208 | Val Acc: 0.7760\n"
     ]
    },
    {
     "name": "stderr",
     "output_type": "stream",
     "text": [
      "                                             "
     ]
    },
    {
     "name": "stdout",
     "output_type": "stream",
     "text": [
      "Epoch 3/60: Train Loss: 0.1614 | Train Acc: 0.9840 | Val Loss: 0.5511 | Val Acc: 0.6640\n"
     ]
    },
    {
     "name": "stderr",
     "output_type": "stream",
     "text": [
      "                                             "
     ]
    },
    {
     "name": "stdout",
     "output_type": "stream",
     "text": [
      "Epoch 4/60: Train Loss: 0.1391 | Train Acc: 0.9980 | Val Loss: 0.3138 | Val Acc: 0.8720\n"
     ]
    },
    {
     "name": "stderr",
     "output_type": "stream",
     "text": [
      "                                             "
     ]
    },
    {
     "name": "stdout",
     "output_type": "stream",
     "text": [
      "Epoch 5/60: Train Loss: 0.1330 | Train Acc: 0.9960 | Val Loss: 0.2358 | Val Acc: 0.9200\n"
     ]
    },
    {
     "name": "stderr",
     "output_type": "stream",
     "text": [
      "                                             "
     ]
    },
    {
     "name": "stdout",
     "output_type": "stream",
     "text": [
      "Epoch 6/60: Train Loss: 0.1315 | Train Acc: 0.9980 | Val Loss: 0.2354 | Val Acc: 0.9040\n"
     ]
    },
    {
     "name": "stderr",
     "output_type": "stream",
     "text": [
      "                                             "
     ]
    },
    {
     "name": "stdout",
     "output_type": "stream",
     "text": [
      "Epoch 7/60: Train Loss: 0.1265 | Train Acc: 1.0000 | Val Loss: 0.2237 | Val Acc: 0.9280\n"
     ]
    },
    {
     "name": "stderr",
     "output_type": "stream",
     "text": [
      "                                             "
     ]
    },
    {
     "name": "stdout",
     "output_type": "stream",
     "text": [
      "Epoch 8/60: Train Loss: 0.1209 | Train Acc: 1.0000 | Val Loss: 0.2170 | Val Acc: 0.9440\n"
     ]
    },
    {
     "name": "stderr",
     "output_type": "stream",
     "text": [
      "                                             "
     ]
    },
    {
     "name": "stdout",
     "output_type": "stream",
     "text": [
      "Epoch 9/60: Train Loss: 0.1279 | Train Acc: 1.0000 | Val Loss: 0.2157 | Val Acc: 0.9360\n"
     ]
    },
    {
     "name": "stderr",
     "output_type": "stream",
     "text": [
      "                                             "
     ]
    },
    {
     "name": "stdout",
     "output_type": "stream",
     "text": [
      "Epoch 10/60: Train Loss: 0.1191 | Train Acc: 1.0000 | Val Loss: 0.2175 | Val Acc: 0.9520\n"
     ]
    },
    {
     "name": "stderr",
     "output_type": "stream",
     "text": [
      "                                             "
     ]
    },
    {
     "name": "stdout",
     "output_type": "stream",
     "text": [
      "Epoch 11/60: Train Loss: 0.1237 | Train Acc: 1.0000 | Val Loss: 0.2198 | Val Acc: 0.9280\n"
     ]
    },
    {
     "name": "stderr",
     "output_type": "stream",
     "text": [
      "                                             "
     ]
    },
    {
     "name": "stdout",
     "output_type": "stream",
     "text": [
      "Epoch 12/60: Train Loss: 0.1204 | Train Acc: 1.0000 | Val Loss: 0.2197 | Val Acc: 0.9360\n"
     ]
    },
    {
     "name": "stderr",
     "output_type": "stream",
     "text": [
      "                                             "
     ]
    },
    {
     "name": "stdout",
     "output_type": "stream",
     "text": [
      "Epoch 13/60: Train Loss: 0.1233 | Train Acc: 1.0000 | Val Loss: 0.2297 | Val Acc: 0.9280\n"
     ]
    },
    {
     "name": "stderr",
     "output_type": "stream",
     "text": [
      "                                             "
     ]
    },
    {
     "name": "stdout",
     "output_type": "stream",
     "text": [
      "Epoch 14/60: Train Loss: 0.1225 | Train Acc: 1.0000 | Val Loss: 0.2168 | Val Acc: 0.9360\n"
     ]
    },
    {
     "name": "stderr",
     "output_type": "stream",
     "text": [
      "                                             "
     ]
    },
    {
     "name": "stdout",
     "output_type": "stream",
     "text": [
      "Epoch 15/60: Train Loss: 0.1218 | Train Acc: 1.0000 | Val Loss: 0.2243 | Val Acc: 0.9280\n"
     ]
    },
    {
     "name": "stderr",
     "output_type": "stream",
     "text": [
      "                                             "
     ]
    },
    {
     "name": "stdout",
     "output_type": "stream",
     "text": [
      "Epoch 16/60: Train Loss: 0.1206 | Train Acc: 1.0000 | Val Loss: 0.2194 | Val Acc: 0.9360\n"
     ]
    },
    {
     "name": "stderr",
     "output_type": "stream",
     "text": [
      "                                             "
     ]
    },
    {
     "name": "stdout",
     "output_type": "stream",
     "text": [
      "Epoch 17/60: Train Loss: 0.1210 | Train Acc: 1.0000 | Val Loss: 0.2167 | Val Acc: 0.9440\n"
     ]
    },
    {
     "name": "stderr",
     "output_type": "stream",
     "text": [
      "                                             "
     ]
    },
    {
     "name": "stdout",
     "output_type": "stream",
     "text": [
      "Epoch 18/60: Train Loss: 0.1256 | Train Acc: 1.0000 | Val Loss: 0.2106 | Val Acc: 0.9280\n"
     ]
    },
    {
     "name": "stderr",
     "output_type": "stream",
     "text": [
      "                                             "
     ]
    },
    {
     "name": "stdout",
     "output_type": "stream",
     "text": [
      "Epoch 19/60: Train Loss: 0.1190 | Train Acc: 1.0000 | Val Loss: 0.2107 | Val Acc: 0.9360\n"
     ]
    },
    {
     "name": "stderr",
     "output_type": "stream",
     "text": [
      "/opt/conda/lib/python3.12/site-packages/torchvision/models/_utils.py:208: UserWarning: The parameter 'pretrained' is deprecated since 0.13 and may be removed in the future, please use 'weights' instead.\n",
      "  warnings.warn(\n",
      "/opt/conda/lib/python3.12/site-packages/torchvision/models/_utils.py:223: UserWarning: Arguments other than a weight enum or `None` for 'weights' are deprecated since 0.13 and may be removed in the future. The current behavior is equivalent to passing `weights=DenseNet121_Weights.IMAGENET1K_V1`. You can also use `weights=DenseNet121_Weights.DEFAULT` to get the most up-to-date weights.\n",
      "  warnings.warn(msg)\n"
     ]
    },
    {
     "name": "stdout",
     "output_type": "stream",
     "text": [
      "Epoch 20/60: Train Loss: 0.1197 | Train Acc: 1.0000 | Val Loss: 0.2132 | Val Acc: 0.9280\n",
      "🛑 Early stopping at epoch 20\n",
      "✅ Fold 2 Best Accuracy: 0.9520\n",
      "\n",
      "--- Fold 3/5 ---\n"
     ]
    },
    {
     "name": "stderr",
     "output_type": "stream",
     "text": [
      "                                             "
     ]
    },
    {
     "name": "stdout",
     "output_type": "stream",
     "text": [
      "Epoch 1/60: Train Loss: 0.3988 | Train Acc: 0.8477 | Val Loss: 0.5944 | Val Acc: 0.6800\n"
     ]
    },
    {
     "name": "stderr",
     "output_type": "stream",
     "text": [
      "                                             "
     ]
    },
    {
     "name": "stdout",
     "output_type": "stream",
     "text": [
      "Epoch 2/60: Train Loss: 0.2003 | Train Acc: 0.9679 | Val Loss: 0.4814 | Val Acc: 0.7520\n"
     ]
    },
    {
     "name": "stderr",
     "output_type": "stream",
     "text": [
      "                                             "
     ]
    },
    {
     "name": "stdout",
     "output_type": "stream",
     "text": [
      "Epoch 3/60: Train Loss: 0.1654 | Train Acc: 0.9820 | Val Loss: 0.5092 | Val Acc: 0.7440\n"
     ]
    },
    {
     "name": "stderr",
     "output_type": "stream",
     "text": [
      "                                             "
     ]
    },
    {
     "name": "stdout",
     "output_type": "stream",
     "text": [
      "Epoch 4/60: Train Loss: 0.1350 | Train Acc: 0.9960 | Val Loss: 0.2660 | Val Acc: 0.9040\n"
     ]
    },
    {
     "name": "stderr",
     "output_type": "stream",
     "text": [
      "                                             "
     ]
    },
    {
     "name": "stdout",
     "output_type": "stream",
     "text": [
      "Epoch 5/60: Train Loss: 0.1547 | Train Acc: 0.9900 | Val Loss: 0.2342 | Val Acc: 0.9280\n"
     ]
    },
    {
     "name": "stderr",
     "output_type": "stream",
     "text": [
      "                                             "
     ]
    },
    {
     "name": "stdout",
     "output_type": "stream",
     "text": [
      "Epoch 6/60: Train Loss: 0.1297 | Train Acc: 1.0000 | Val Loss: 0.2244 | Val Acc: 0.9360\n"
     ]
    },
    {
     "name": "stderr",
     "output_type": "stream",
     "text": [
      "                                             "
     ]
    },
    {
     "name": "stdout",
     "output_type": "stream",
     "text": [
      "Epoch 7/60: Train Loss: 0.1280 | Train Acc: 1.0000 | Val Loss: 0.2149 | Val Acc: 0.9440\n"
     ]
    },
    {
     "name": "stderr",
     "output_type": "stream",
     "text": [
      "                                             "
     ]
    },
    {
     "name": "stdout",
     "output_type": "stream",
     "text": [
      "Epoch 8/60: Train Loss: 0.1258 | Train Acc: 1.0000 | Val Loss: 0.2157 | Val Acc: 0.9600\n"
     ]
    },
    {
     "name": "stderr",
     "output_type": "stream",
     "text": [
      "                                             "
     ]
    },
    {
     "name": "stdout",
     "output_type": "stream",
     "text": [
      "Epoch 9/60: Train Loss: 0.1262 | Train Acc: 1.0000 | Val Loss: 0.2171 | Val Acc: 0.9440\n"
     ]
    },
    {
     "name": "stderr",
     "output_type": "stream",
     "text": [
      "                                             "
     ]
    },
    {
     "name": "stdout",
     "output_type": "stream",
     "text": [
      "Epoch 10/60: Train Loss: 0.1228 | Train Acc: 1.0000 | Val Loss: 0.2125 | Val Acc: 0.9440\n"
     ]
    },
    {
     "name": "stderr",
     "output_type": "stream",
     "text": [
      "                                             "
     ]
    },
    {
     "name": "stdout",
     "output_type": "stream",
     "text": [
      "Epoch 11/60: Train Loss: 0.1300 | Train Acc: 1.0000 | Val Loss: 0.2155 | Val Acc: 0.9440\n"
     ]
    },
    {
     "name": "stderr",
     "output_type": "stream",
     "text": [
      "                                             "
     ]
    },
    {
     "name": "stdout",
     "output_type": "stream",
     "text": [
      "Epoch 12/60: Train Loss: 0.1244 | Train Acc: 1.0000 | Val Loss: 0.2148 | Val Acc: 0.9520\n"
     ]
    },
    {
     "name": "stderr",
     "output_type": "stream",
     "text": [
      "                                             "
     ]
    },
    {
     "name": "stdout",
     "output_type": "stream",
     "text": [
      "Epoch 13/60: Train Loss: 0.1212 | Train Acc: 1.0000 | Val Loss: 0.2180 | Val Acc: 0.9360\n"
     ]
    },
    {
     "name": "stderr",
     "output_type": "stream",
     "text": [
      "                                             "
     ]
    },
    {
     "name": "stdout",
     "output_type": "stream",
     "text": [
      "Epoch 14/60: Train Loss: 0.1201 | Train Acc: 1.0000 | Val Loss: 0.2201 | Val Acc: 0.9360\n"
     ]
    },
    {
     "name": "stderr",
     "output_type": "stream",
     "text": [
      "                                             "
     ]
    },
    {
     "name": "stdout",
     "output_type": "stream",
     "text": [
      "Epoch 15/60: Train Loss: 0.1220 | Train Acc: 1.0000 | Val Loss: 0.2218 | Val Acc: 0.9280\n"
     ]
    },
    {
     "name": "stderr",
     "output_type": "stream",
     "text": [
      "                                             "
     ]
    },
    {
     "name": "stdout",
     "output_type": "stream",
     "text": [
      "Epoch 16/60: Train Loss: 0.1201 | Train Acc: 1.0000 | Val Loss: 0.2170 | Val Acc: 0.9440\n"
     ]
    },
    {
     "name": "stderr",
     "output_type": "stream",
     "text": [
      "                                             "
     ]
    },
    {
     "name": "stdout",
     "output_type": "stream",
     "text": [
      "Epoch 17/60: Train Loss: 0.1220 | Train Acc: 1.0000 | Val Loss: 0.2201 | Val Acc: 0.9360\n"
     ]
    },
    {
     "name": "stderr",
     "output_type": "stream",
     "text": [
      "/opt/conda/lib/python3.12/site-packages/torchvision/models/_utils.py:208: UserWarning: The parameter 'pretrained' is deprecated since 0.13 and may be removed in the future, please use 'weights' instead.\n",
      "  warnings.warn(\n",
      "/opt/conda/lib/python3.12/site-packages/torchvision/models/_utils.py:223: UserWarning: Arguments other than a weight enum or `None` for 'weights' are deprecated since 0.13 and may be removed in the future. The current behavior is equivalent to passing `weights=DenseNet121_Weights.IMAGENET1K_V1`. You can also use `weights=DenseNet121_Weights.DEFAULT` to get the most up-to-date weights.\n",
      "  warnings.warn(msg)\n"
     ]
    },
    {
     "name": "stdout",
     "output_type": "stream",
     "text": [
      "Epoch 18/60: Train Loss: 0.1220 | Train Acc: 1.0000 | Val Loss: 0.2142 | Val Acc: 0.9440\n",
      "🛑 Early stopping at epoch 18\n",
      "✅ Fold 3 Best Accuracy: 0.9600\n",
      "\n",
      "--- Fold 4/5 ---\n"
     ]
    },
    {
     "name": "stderr",
     "output_type": "stream",
     "text": [
      "                                             "
     ]
    },
    {
     "name": "stdout",
     "output_type": "stream",
     "text": [
      "Epoch 1/60: Train Loss: 0.3833 | Train Acc: 0.8437 | Val Loss: 0.6154 | Val Acc: 0.6240\n"
     ]
    },
    {
     "name": "stderr",
     "output_type": "stream",
     "text": [
      "                                             "
     ]
    },
    {
     "name": "stdout",
     "output_type": "stream",
     "text": [
      "Epoch 2/60: Train Loss: 0.2117 | Train Acc: 0.9499 | Val Loss: 0.6310 | Val Acc: 0.6400\n"
     ]
    },
    {
     "name": "stderr",
     "output_type": "stream",
     "text": [
      "                                             "
     ]
    },
    {
     "name": "stdout",
     "output_type": "stream",
     "text": [
      "Epoch 3/60: Train Loss: 0.1428 | Train Acc: 0.9980 | Val Loss: 0.4585 | Val Acc: 0.7440\n"
     ]
    },
    {
     "name": "stderr",
     "output_type": "stream",
     "text": [
      "                                             "
     ]
    },
    {
     "name": "stdout",
     "output_type": "stream",
     "text": [
      "Epoch 4/60: Train Loss: 0.1340 | Train Acc: 0.9960 | Val Loss: 0.2897 | Val Acc: 0.8960\n"
     ]
    },
    {
     "name": "stderr",
     "output_type": "stream",
     "text": [
      "                                             "
     ]
    },
    {
     "name": "stdout",
     "output_type": "stream",
     "text": [
      "Epoch 5/60: Train Loss: 0.1323 | Train Acc: 1.0000 | Val Loss: 0.2949 | Val Acc: 0.9200\n"
     ]
    },
    {
     "name": "stderr",
     "output_type": "stream",
     "text": [
      "                                             "
     ]
    },
    {
     "name": "stdout",
     "output_type": "stream",
     "text": [
      "Epoch 6/60: Train Loss: 0.1249 | Train Acc: 1.0000 | Val Loss: 0.2789 | Val Acc: 0.9120\n"
     ]
    },
    {
     "name": "stderr",
     "output_type": "stream",
     "text": [
      "                                             "
     ]
    },
    {
     "name": "stdout",
     "output_type": "stream",
     "text": [
      "Epoch 7/60: Train Loss: 0.1254 | Train Acc: 1.0000 | Val Loss: 0.2624 | Val Acc: 0.9280\n"
     ]
    },
    {
     "name": "stderr",
     "output_type": "stream",
     "text": [
      "                                             "
     ]
    },
    {
     "name": "stdout",
     "output_type": "stream",
     "text": [
      "Epoch 8/60: Train Loss: 0.1263 | Train Acc: 1.0000 | Val Loss: 0.2730 | Val Acc: 0.9120\n"
     ]
    },
    {
     "name": "stderr",
     "output_type": "stream",
     "text": [
      "                                             "
     ]
    },
    {
     "name": "stdout",
     "output_type": "stream",
     "text": [
      "Epoch 9/60: Train Loss: 0.1260 | Train Acc: 1.0000 | Val Loss: 0.2576 | Val Acc: 0.9280\n"
     ]
    },
    {
     "name": "stderr",
     "output_type": "stream",
     "text": [
      "                                             "
     ]
    },
    {
     "name": "stdout",
     "output_type": "stream",
     "text": [
      "Epoch 10/60: Train Loss: 0.1259 | Train Acc: 1.0000 | Val Loss: 0.2491 | Val Acc: 0.9360\n"
     ]
    },
    {
     "name": "stderr",
     "output_type": "stream",
     "text": [
      "                                             "
     ]
    },
    {
     "name": "stdout",
     "output_type": "stream",
     "text": [
      "Epoch 11/60: Train Loss: 0.1227 | Train Acc: 1.0000 | Val Loss: 0.2489 | Val Acc: 0.9200\n"
     ]
    },
    {
     "name": "stderr",
     "output_type": "stream",
     "text": [
      "                                             "
     ]
    },
    {
     "name": "stdout",
     "output_type": "stream",
     "text": [
      "Epoch 12/60: Train Loss: 0.1214 | Train Acc: 1.0000 | Val Loss: 0.2509 | Val Acc: 0.9280\n"
     ]
    },
    {
     "name": "stderr",
     "output_type": "stream",
     "text": [
      "                                             "
     ]
    },
    {
     "name": "stdout",
     "output_type": "stream",
     "text": [
      "Epoch 13/60: Train Loss: 0.1239 | Train Acc: 1.0000 | Val Loss: 0.2568 | Val Acc: 0.9200\n"
     ]
    },
    {
     "name": "stderr",
     "output_type": "stream",
     "text": [
      "                                             "
     ]
    },
    {
     "name": "stdout",
     "output_type": "stream",
     "text": [
      "Epoch 14/60: Train Loss: 0.1223 | Train Acc: 1.0000 | Val Loss: 0.2579 | Val Acc: 0.8960\n"
     ]
    },
    {
     "name": "stderr",
     "output_type": "stream",
     "text": [
      "                                             "
     ]
    },
    {
     "name": "stdout",
     "output_type": "stream",
     "text": [
      "Epoch 15/60: Train Loss: 0.1222 | Train Acc: 1.0000 | Val Loss: 0.2525 | Val Acc: 0.9120\n"
     ]
    },
    {
     "name": "stderr",
     "output_type": "stream",
     "text": [
      "                                             "
     ]
    },
    {
     "name": "stdout",
     "output_type": "stream",
     "text": [
      "Epoch 16/60: Train Loss: 0.1226 | Train Acc: 1.0000 | Val Loss: 0.2665 | Val Acc: 0.9120\n"
     ]
    },
    {
     "name": "stderr",
     "output_type": "stream",
     "text": [
      "                                             "
     ]
    },
    {
     "name": "stdout",
     "output_type": "stream",
     "text": [
      "Epoch 17/60: Train Loss: 0.1226 | Train Acc: 1.0000 | Val Loss: 0.2598 | Val Acc: 0.9120\n"
     ]
    },
    {
     "name": "stderr",
     "output_type": "stream",
     "text": [
      "                                             "
     ]
    },
    {
     "name": "stdout",
     "output_type": "stream",
     "text": [
      "Epoch 18/60: Train Loss: 0.1269 | Train Acc: 1.0000 | Val Loss: 0.2590 | Val Acc: 0.9360\n"
     ]
    },
    {
     "name": "stderr",
     "output_type": "stream",
     "text": [
      "                                             "
     ]
    },
    {
     "name": "stdout",
     "output_type": "stream",
     "text": [
      "Epoch 19/60: Train Loss: 0.1222 | Train Acc: 1.0000 | Val Loss: 0.2485 | Val Acc: 0.9360\n"
     ]
    },
    {
     "name": "stderr",
     "output_type": "stream",
     "text": [
      "/opt/conda/lib/python3.12/site-packages/torchvision/models/_utils.py:208: UserWarning: The parameter 'pretrained' is deprecated since 0.13 and may be removed in the future, please use 'weights' instead.\n",
      "  warnings.warn(\n",
      "/opt/conda/lib/python3.12/site-packages/torchvision/models/_utils.py:223: UserWarning: Arguments other than a weight enum or `None` for 'weights' are deprecated since 0.13 and may be removed in the future. The current behavior is equivalent to passing `weights=DenseNet121_Weights.IMAGENET1K_V1`. You can also use `weights=DenseNet121_Weights.DEFAULT` to get the most up-to-date weights.\n",
      "  warnings.warn(msg)\n"
     ]
    },
    {
     "name": "stdout",
     "output_type": "stream",
     "text": [
      "Epoch 20/60: Train Loss: 0.1235 | Train Acc: 1.0000 | Val Loss: 0.2543 | Val Acc: 0.9280\n",
      "🛑 Early stopping at epoch 20\n",
      "✅ Fold 4 Best Accuracy: 0.9360\n",
      "\n",
      "--- Fold 5/5 ---\n"
     ]
    },
    {
     "name": "stderr",
     "output_type": "stream",
     "text": [
      "                                             "
     ]
    },
    {
     "name": "stdout",
     "output_type": "stream",
     "text": [
      "Epoch 1/60: Train Loss: 0.3613 | Train Acc: 0.8600 | Val Loss: 0.5703 | Val Acc: 0.6774\n"
     ]
    },
    {
     "name": "stderr",
     "output_type": "stream",
     "text": [
      "                                             "
     ]
    },
    {
     "name": "stdout",
     "output_type": "stream",
     "text": [
      "Epoch 2/60: Train Loss: 0.1717 | Train Acc: 0.9820 | Val Loss: 0.4394 | Val Acc: 0.7742\n"
     ]
    },
    {
     "name": "stderr",
     "output_type": "stream",
     "text": [
      "                                             "
     ]
    },
    {
     "name": "stdout",
     "output_type": "stream",
     "text": [
      "Epoch 3/60: Train Loss: 0.1517 | Train Acc: 0.9820 | Val Loss: 0.2915 | Val Acc: 0.9194\n"
     ]
    },
    {
     "name": "stderr",
     "output_type": "stream",
     "text": [
      "                                             "
     ]
    },
    {
     "name": "stdout",
     "output_type": "stream",
     "text": [
      "Epoch 4/60: Train Loss: 0.1397 | Train Acc: 0.9920 | Val Loss: 0.2302 | Val Acc: 0.9677\n"
     ]
    },
    {
     "name": "stderr",
     "output_type": "stream",
     "text": [
      "                                             "
     ]
    },
    {
     "name": "stdout",
     "output_type": "stream",
     "text": [
      "Epoch 5/60: Train Loss: 0.1292 | Train Acc: 0.9960 | Val Loss: 0.2124 | Val Acc: 0.9355\n"
     ]
    },
    {
     "name": "stderr",
     "output_type": "stream",
     "text": [
      "                                             "
     ]
    },
    {
     "name": "stdout",
     "output_type": "stream",
     "text": [
      "Epoch 6/60: Train Loss: 0.1329 | Train Acc: 1.0000 | Val Loss: 0.2137 | Val Acc: 0.9516\n"
     ]
    },
    {
     "name": "stderr",
     "output_type": "stream",
     "text": [
      "                                             "
     ]
    },
    {
     "name": "stdout",
     "output_type": "stream",
     "text": [
      "Epoch 7/60: Train Loss: 0.1376 | Train Acc: 1.0000 | Val Loss: 0.2246 | Val Acc: 0.9274\n"
     ]
    },
    {
     "name": "stderr",
     "output_type": "stream",
     "text": [
      "                                             "
     ]
    },
    {
     "name": "stdout",
     "output_type": "stream",
     "text": [
      "Epoch 8/60: Train Loss: 0.1389 | Train Acc: 0.9920 | Val Loss: 0.2216 | Val Acc: 0.9355\n"
     ]
    },
    {
     "name": "stderr",
     "output_type": "stream",
     "text": [
      "                                             "
     ]
    },
    {
     "name": "stdout",
     "output_type": "stream",
     "text": [
      "Epoch 9/60: Train Loss: 0.1292 | Train Acc: 1.0000 | Val Loss: 0.1992 | Val Acc: 0.9516\n"
     ]
    },
    {
     "name": "stderr",
     "output_type": "stream",
     "text": [
      "                                             "
     ]
    },
    {
     "name": "stdout",
     "output_type": "stream",
     "text": [
      "Epoch 10/60: Train Loss: 0.1232 | Train Acc: 1.0000 | Val Loss: 0.2016 | Val Acc: 0.9597\n"
     ]
    },
    {
     "name": "stderr",
     "output_type": "stream",
     "text": [
      "                                             "
     ]
    },
    {
     "name": "stdout",
     "output_type": "stream",
     "text": [
      "Epoch 11/60: Train Loss: 0.1220 | Train Acc: 1.0000 | Val Loss: 0.1966 | Val Acc: 0.9516\n"
     ]
    },
    {
     "name": "stderr",
     "output_type": "stream",
     "text": [
      "                                             "
     ]
    },
    {
     "name": "stdout",
     "output_type": "stream",
     "text": [
      "Epoch 12/60: Train Loss: 0.1230 | Train Acc: 1.0000 | Val Loss: 0.2054 | Val Acc: 0.9516\n"
     ]
    },
    {
     "name": "stderr",
     "output_type": "stream",
     "text": [
      "                                             "
     ]
    },
    {
     "name": "stdout",
     "output_type": "stream",
     "text": [
      "Epoch 13/60: Train Loss: 0.1226 | Train Acc: 1.0000 | Val Loss: 0.1992 | Val Acc: 0.9516\n"
     ]
    },
    {
     "name": "stderr",
     "output_type": "stream",
     "text": [
      "                                             "
     ]
    },
    {
     "name": "stdout",
     "output_type": "stream",
     "text": [
      "Epoch 14/60: Train Loss: 0.1196 | Train Acc: 1.0000 | Val Loss: 0.1975 | Val Acc: 0.9677\n",
      "🛑 Early stopping at epoch 14\n",
      "✅ Fold 5 Best Accuracy: 0.9677\n",
      "\n",
      "📊 Final K-Fold Results:\n",
      "Mean Validation Accuracy: 0.9487 ± 0.0148\n",
      "\n",
      "Classification Report:\n",
      "              precision    recall  f1-score   support\n",
      "\n",
      "      Normal       0.99      0.97      0.98       234\n",
      "   Pneumonia       0.98      0.99      0.99       390\n",
      "\n",
      "    accuracy                           0.99       624\n",
      "   macro avg       0.99      0.98      0.98       624\n",
      "weighted avg       0.99      0.99      0.99       624\n",
      "\n",
      "🏆 Final Test Accuracy: 0.9856\n"
     ]
    }
   ],
   "source": [
    "import torch\n",
    "import torch.nn as nn\n",
    "import torch.optim as optim\n",
    "from torch.utils.data import DataLoader, Subset, WeightedRandomSampler\n",
    "from sklearn.model_selection import StratifiedKFold\n",
    "from sklearn.metrics import classification_report, confusion_matrix\n",
    "from sklearn.utils.class_weight import compute_class_weight\n",
    "from model import get_model\n",
    "from data_prep import get_dataloaders, custom_collate\n",
    "from tqdm import tqdm\n",
    "import numpy as np\n",
    "import os\n",
    "import matplotlib.pyplot as plt\n",
    "import seaborn as sns\n",
    "\n",
    "# Create directories\n",
    "os.makedirs(\"checkpoints\", exist_ok=True)\n",
    "os.makedirs(\"plots\", exist_ok=True)\n",
    "\n",
    "class LabelSmoothingCrossEntropy(nn.Module):\n",
    "    def __init__(self, epsilon: float = 0.1, reduction='mean'):\n",
    "        super().__init__()\n",
    "        self.epsilon = epsilon\n",
    "        self.reduction = reduction\n",
    "\n",
    "    def forward(self, preds, target):\n",
    "        n = preds.size()[-1]\n",
    "        log_preds = preds.log_softmax(dim=-1)\n",
    "        loss = log_preds.sum(dim=-1).mul(-1 / n)\n",
    "        nll = -log_preds.gather(dim=-1, index=target.view(target.size(0), 1)).squeeze(1)\n",
    "        loss = loss * self.epsilon / n + (1 - self.epsilon) * nll\n",
    "        return loss.mean()\n",
    "\n",
    "def train_one_epoch(model, dataloader, criterion, optimizer, device, scheduler=None):\n",
    "    model.train()\n",
    "    running_loss = 0.0\n",
    "    correct = 0\n",
    "    total = 0\n",
    "    all_preds = []\n",
    "    all_labels = []\n",
    "\n",
    "    for images, labels in tqdm(dataloader, desc=\"Training\", leave=False):\n",
    "        images, labels = images.to(device), labels.to(device)\n",
    "\n",
    "        optimizer.zero_grad()\n",
    "        outputs = model(images)\n",
    "        loss = criterion(outputs, labels)\n",
    "        loss.backward()\n",
    "        optimizer.step()\n",
    "\n",
    "        running_loss += loss.item() * images.size(0)\n",
    "        _, preds = torch.max(outputs, 1)\n",
    "        correct += (preds == labels).sum().item()\n",
    "        total += labels.size(0)\n",
    "        \n",
    "        all_preds.extend(preds.cpu().numpy())\n",
    "        all_labels.extend(labels.cpu().numpy())\n",
    "\n",
    "    if scheduler:\n",
    "        scheduler.step()\n",
    "\n",
    "    epoch_loss = running_loss / total\n",
    "    epoch_acc = correct / total\n",
    "    return epoch_loss, epoch_acc, all_preds, all_labels\n",
    "\n",
    "def validate(model, dataloader, criterion, device):\n",
    "    model.eval()\n",
    "    running_loss = 0.0\n",
    "    correct = 0\n",
    "    total = 0\n",
    "    all_preds = []\n",
    "    all_labels = []\n",
    "\n",
    "    with torch.no_grad():\n",
    "        for images, labels in tqdm(dataloader, desc=\"Validating\", leave=False):\n",
    "            images, labels = images.to(device), labels.to(device)\n",
    "\n",
    "            outputs = model(images)\n",
    "            loss = criterion(outputs, labels)\n",
    "\n",
    "            running_loss += loss.item() * images.size(0)\n",
    "            _, preds = torch.max(outputs, 1)\n",
    "            correct += (preds == labels).sum().item()\n",
    "            total += labels.size(0)\n",
    "            \n",
    "            all_preds.extend(preds.cpu().numpy())\n",
    "            all_labels.extend(labels.cpu().numpy())\n",
    "\n",
    "    epoch_loss = running_loss / total\n",
    "    epoch_acc = correct / total\n",
    "    return epoch_loss, epoch_acc, all_preds, all_labels\n",
    "\n",
    "def evaluate(model, dataloader, device):\n",
    "    model.eval()\n",
    "    correct = 0\n",
    "    total = 0\n",
    "    all_preds = []\n",
    "    all_labels = []\n",
    "    all_probs = []\n",
    "\n",
    "    with torch.no_grad():\n",
    "        for images, labels in dataloader:\n",
    "            images, labels = images.to(device), labels.to(device)\n",
    "            outputs = model(images)\n",
    "            probs = torch.softmax(outputs, dim=1)\n",
    "            _, preds = torch.max(outputs, 1)\n",
    "            total += labels.size(0)\n",
    "            correct += (preds == labels).sum().item()\n",
    "            \n",
    "            all_preds.extend(preds.cpu().numpy())\n",
    "            all_labels.extend(labels.cpu().numpy())\n",
    "            all_probs.extend(probs.cpu().numpy())\n",
    "\n",
    "    accuracy = correct / total\n",
    "    print(\"\\nClassification Report:\")\n",
    "    print(classification_report(all_labels, all_preds, target_names=['Normal', 'Pneumonia']))\n",
    "    \n",
    "    # Plot confusion matrix\n",
    "    cm = confusion_matrix(all_labels, all_preds)\n",
    "    plt.figure(figsize=(8, 6))\n",
    "    sns.heatmap(cm, annot=True, fmt='d', cmap='Blues', \n",
    "                xticklabels=['Normal', 'Pneumonia'], \n",
    "                yticklabels=['Normal', 'Pneumonia'])\n",
    "    plt.xlabel('Predicted')\n",
    "    plt.ylabel('True')\n",
    "    plt.title('Confusion Matrix')\n",
    "    plt.savefig('plots/confusion_matrix.png')\n",
    "    plt.close()\n",
    "    \n",
    "    return accuracy, all_probs, all_labels\n",
    "\n",
    "def run_kfold_training(k_folds=5, num_epochs=60):\n",
    "    # Get full dataset\n",
    "    _, _, test_loader = get_dataloaders()\n",
    "    full_dataset = test_loader.dataset.hf_dataset\n",
    "    all_labels = [item['label'] for item in full_dataset]\n",
    "\n",
    "    skf = StratifiedKFold(n_splits=k_folds, shuffle=True, random_state=42)\n",
    "    all_fold_accuracies = []\n",
    "    fold_histories = []\n",
    "\n",
    "    for fold, (train_idx, val_idx) in enumerate(skf.split(np.zeros(len(all_labels)), all_labels)):\n",
    "        print(f\"\\n--- Fold {fold + 1}/{k_folds} ---\")\n",
    "\n",
    "        # Create data loaders with weighted sampling\n",
    "        train_subsampler = Subset(test_loader.dataset, train_idx)\n",
    "        val_subsampler = Subset(test_loader.dataset, val_idx)\n",
    "\n",
    "        # Compute class weights and create sampler\n",
    "        labels_in_fold = [all_labels[i] for i in train_idx]\n",
    "        class_weights = compute_class_weight('balanced', classes=np.unique(all_labels), y=labels_in_fold)\n",
    "        sample_weights = [class_weights[label] for label in labels_in_fold]\n",
    "        sampler = WeightedRandomSampler(sample_weights, len(sample_weights), replacement=True)\n",
    "\n",
    "        train_loader_fold = DataLoader(\n",
    "            train_subsampler, \n",
    "            batch_size=32, \n",
    "            sampler=sampler,\n",
    "            collate_fn=custom_collate\n",
    "        )\n",
    "        val_loader_fold = DataLoader(\n",
    "            val_subsampler, \n",
    "            batch_size=32, \n",
    "            shuffle=False,\n",
    "            collate_fn=custom_collate\n",
    "        )\n",
    "\n",
    "        # Model with improved initialization\n",
    "        model = get_model()\n",
    "        device = \"cuda\" if torch.cuda.is_available() else \"cpu\"\n",
    "        model.to(device)\n",
    "\n",
    "        # Enhanced optimizer and scheduler\n",
    "        optimizer = optim.AdamW(model.parameters(), lr=1e-4, weight_decay=1e-4)\n",
    "        scheduler = optim.lr_scheduler.CosineAnnealingLR(optimizer, T_max=num_epochs)\n",
    "        \n",
    "        # Loss function with class weights and label smoothing\n",
    "        class_weights_tensor = torch.tensor(class_weights, dtype=torch.float).to(device)\n",
    "        criterion = LabelSmoothingCrossEntropy(epsilon=0.1)\n",
    "        \n",
    "        best_val_acc = 0.0\n",
    "        early_stop_counter = 0\n",
    "        patience = 10\n",
    "        history = {'train_loss': [], 'val_loss': [], 'train_acc': [], 'val_acc': []}\n",
    "\n",
    "        # Training loop with progress tracking\n",
    "        for epoch in range(num_epochs):\n",
    "            train_loss, train_acc, _, _ = train_one_epoch(\n",
    "                model, train_loader_fold, criterion, optimizer, device, scheduler\n",
    "            )\n",
    "            val_loss, val_acc, val_preds, val_labels = validate(\n",
    "                model, val_loader_fold, criterion, device\n",
    "            )\n",
    "            \n",
    "            # Update history\n",
    "            history['train_loss'].append(train_loss)\n",
    "            history['val_loss'].append(val_loss)\n",
    "            history['train_acc'].append(train_acc)\n",
    "            history['val_acc'].append(val_acc)\n",
    "\n",
    "            print(f\"Epoch {epoch+1}/{num_epochs}: \"\n",
    "                  f\"Train Loss: {train_loss:.4f} | Train Acc: {train_acc:.4f} | \"\n",
    "                  f\"Val Loss: {val_loss:.4f} | Val Acc: {val_acc:.4f}\")\n",
    "\n",
    "            # Early stopping and model checkpointing\n",
    "            if val_acc > best_val_acc:\n",
    "                best_val_acc = val_acc\n",
    "                torch.save(model.state_dict(), f\"checkpoints/best_model_fold{fold}.pth\")\n",
    "                early_stop_counter = 0\n",
    "            else:\n",
    "                early_stop_counter += 1\n",
    "                if early_stop_counter >= patience:\n",
    "                    print(f\"🛑 Early stopping at epoch {epoch+1}\")\n",
    "                    break\n",
    "\n",
    "        all_fold_accuracies.append(best_val_acc)\n",
    "        fold_histories.append(history)\n",
    "        print(f\"✅ Fold {fold + 1} Best Accuracy: {best_val_acc:.4f}\")\n",
    "\n",
    "        # Plot training history\n",
    "        plt.figure(figsize=(12, 5))\n",
    "        plt.subplot(1, 2, 1)\n",
    "        plt.plot(history['train_loss'], label='Train Loss')\n",
    "        plt.plot(history['val_loss'], label='Val Loss')\n",
    "        plt.title('Loss Curve')\n",
    "        plt.legend()\n",
    "        \n",
    "        plt.subplot(1, 2, 2)\n",
    "        plt.plot(history['train_acc'], label='Train Accuracy')\n",
    "        plt.plot(history['val_acc'], label='Val Accuracy')\n",
    "        plt.title('Accuracy Curve')\n",
    "        plt.legend()\n",
    "        \n",
    "        plt.suptitle(f'Fold {fold + 1} Training History')\n",
    "        plt.savefig(f'plots/fold_{fold}_history.png')\n",
    "        plt.close()\n",
    "\n",
    "    # Final evaluation and analysis\n",
    "    print(\"\\n📊 Final K-Fold Results:\")\n",
    "    print(f\"Mean Validation Accuracy: {np.mean(all_fold_accuracies):.4f} ± {np.std(all_fold_accuracies):.4f}\")\n",
    "    \n",
    "    # Test evaluation using best fold\n",
    "    best_fold = np.argmax(all_fold_accuracies)\n",
    "    model.load_state_dict(torch.load(f\"checkpoints/best_model_fold{best_fold}.pth\"))\n",
    "    test_acc, test_probs, test_labels = evaluate(model, test_loader, device)\n",
    "    print(f\"🏆 Final Test Accuracy: {test_acc:.4f}\")\n",
    "\n",
    "    # Plot ROC curve\n",
    "    from sklearn.metrics import roc_curve, auc\n",
    "    fpr, tpr, _ = roc_curve(test_labels, [p[1] for p in test_probs])\n",
    "    roc_auc = auc(fpr, tpr)\n",
    "    \n",
    "    plt.figure()\n",
    "    plt.plot(fpr, tpr, color='darkorange', lw=2, label=f'ROC curve (area = {roc_auc:.2f})')\n",
    "    plt.plot([0, 1], [0, 1], color='navy', lw=2, linestyle='--')\n",
    "    plt.xlim([0.0, 1.0])\n",
    "    plt.ylim([0.0, 1.05])\n",
    "    plt.xlabel('False Positive Rate')\n",
    "    plt.ylabel('True Positive Rate')\n",
    "    plt.title('Receiver Operating Characteristic')\n",
    "    plt.legend(loc=\"lower right\")\n",
    "    plt.savefig('plots/roc_curve.png')\n",
    "    plt.close()\n",
    "\n",
    "if __name__ == \"__main__\":\n",
    "    run_kfold_training(k_folds=5, num_epochs=60)"
   ]
  },
  {
   "cell_type": "markdown",
   "id": "5261b4c4-3dea-40f6-abab-9d64a1e0eae4",
   "metadata": {},
   "source": [
    "# Train 3"
   ]
  },
  {
   "cell_type": "code",
   "execution_count": 2,
   "id": "1c592501-ca7a-4e13-85c7-ae04369e0296",
   "metadata": {
    "scrolled": true
   },
   "outputs": [
    {
     "name": "stdout",
     "output_type": "stream",
     "text": [
      "✅ DataLoaders created successfully!\n",
      "\n",
      "=== Fold 1/5 ===\n"
     ]
    },
    {
     "name": "stderr",
     "output_type": "stream",
     "text": [
      "/opt/conda/lib/python3.12/site-packages/torchvision/models/_utils.py:208: UserWarning: The parameter 'pretrained' is deprecated since 0.13 and may be removed in the future, please use 'weights' instead.\n",
      "  warnings.warn(\n",
      "/opt/conda/lib/python3.12/site-packages/torchvision/models/_utils.py:223: UserWarning: Arguments other than a weight enum or `None` for 'weights' are deprecated since 0.13 and may be removed in the future. The current behavior is equivalent to passing `weights=DenseNet121_Weights.IMAGENET1K_V1`. You can also use `weights=DenseNet121_Weights.DEFAULT` to get the most up-to-date weights.\n",
      "  warnings.warn(msg)\n",
      "                                             "
     ]
    },
    {
     "name": "stdout",
     "output_type": "stream",
     "text": [
      "Epoch 1/60: Train Loss: 0.4091 | Train Acc: 0.8637 | Val Loss: 0.6375 | Val Acc: 0.6240 | LR: 9.99e-05\n"
     ]
    },
    {
     "name": "stderr",
     "output_type": "stream",
     "text": [
      "                                             "
     ]
    },
    {
     "name": "stdout",
     "output_type": "stream",
     "text": [
      "Epoch 2/60: Train Loss: 0.2500 | Train Acc: 0.9679 | Val Loss: 0.5147 | Val Acc: 0.7760 | LR: 9.97e-05\n"
     ]
    },
    {
     "name": "stderr",
     "output_type": "stream",
     "text": [
      "                                             "
     ]
    },
    {
     "name": "stdout",
     "output_type": "stream",
     "text": [
      "Epoch 3/60: Train Loss: 0.2331 | Train Acc: 0.9900 | Val Loss: 0.4715 | Val Acc: 0.7840 | LR: 9.94e-05\n"
     ]
    },
    {
     "name": "stderr",
     "output_type": "stream",
     "text": [
      "                                             "
     ]
    },
    {
     "name": "stdout",
     "output_type": "stream",
     "text": [
      "Epoch 4/60: Train Loss: 0.2231 | Train Acc: 0.9940 | Val Loss: 0.3474 | Val Acc: 0.9200 | LR: 9.89e-05\n"
     ]
    },
    {
     "name": "stderr",
     "output_type": "stream",
     "text": [
      "                                             "
     ]
    },
    {
     "name": "stdout",
     "output_type": "stream",
     "text": [
      "Epoch 5/60: Train Loss: 0.2204 | Train Acc: 1.0000 | Val Loss: 0.3245 | Val Acc: 0.9200 | LR: 9.83e-05\n"
     ]
    },
    {
     "name": "stderr",
     "output_type": "stream",
     "text": [
      "                                             "
     ]
    },
    {
     "name": "stdout",
     "output_type": "stream",
     "text": [
      "Epoch 6/60: Train Loss: 0.2202 | Train Acc: 0.9980 | Val Loss: 0.2985 | Val Acc: 0.9360 | LR: 9.76e-05\n"
     ]
    },
    {
     "name": "stderr",
     "output_type": "stream",
     "text": [
      "                                             "
     ]
    },
    {
     "name": "stdout",
     "output_type": "stream",
     "text": [
      "Epoch 7/60: Train Loss: 0.2147 | Train Acc: 1.0000 | Val Loss: 0.3104 | Val Acc: 0.9360 | LR: 9.67e-05\n"
     ]
    },
    {
     "name": "stderr",
     "output_type": "stream",
     "text": [
      "                                             "
     ]
    },
    {
     "name": "stdout",
     "output_type": "stream",
     "text": [
      "Epoch 8/60: Train Loss: 0.2060 | Train Acc: 1.0000 | Val Loss: 0.3223 | Val Acc: 0.9200 | LR: 9.57e-05\n"
     ]
    },
    {
     "name": "stderr",
     "output_type": "stream",
     "text": [
      "                                             "
     ]
    },
    {
     "name": "stdout",
     "output_type": "stream",
     "text": [
      "Epoch 9/60: Train Loss: 0.2096 | Train Acc: 1.0000 | Val Loss: 0.3104 | Val Acc: 0.9280 | LR: 9.46e-05\n"
     ]
    },
    {
     "name": "stderr",
     "output_type": "stream",
     "text": [
      "                                             "
     ]
    },
    {
     "name": "stdout",
     "output_type": "stream",
     "text": [
      "Epoch 10/60: Train Loss: 0.2051 | Train Acc: 1.0000 | Val Loss: 0.3085 | Val Acc: 0.9200 | LR: 9.33e-05\n"
     ]
    },
    {
     "name": "stderr",
     "output_type": "stream",
     "text": [
      "                                             "
     ]
    },
    {
     "name": "stdout",
     "output_type": "stream",
     "text": [
      "Epoch 11/60: Train Loss: 0.2060 | Train Acc: 1.0000 | Val Loss: 0.3121 | Val Acc: 0.9120 | LR: 9.19e-05\n"
     ]
    },
    {
     "name": "stderr",
     "output_type": "stream",
     "text": [
      "                                             "
     ]
    },
    {
     "name": "stdout",
     "output_type": "stream",
     "text": [
      "Epoch 12/60: Train Loss: 0.2093 | Train Acc: 1.0000 | Val Loss: 0.3077 | Val Acc: 0.9120 | LR: 9.05e-05\n"
     ]
    },
    {
     "name": "stderr",
     "output_type": "stream",
     "text": [
      "                                             "
     ]
    },
    {
     "name": "stdout",
     "output_type": "stream",
     "text": [
      "Epoch 13/60: Train Loss: 0.2061 | Train Acc: 1.0000 | Val Loss: 0.3150 | Val Acc: 0.9120 | LR: 8.89e-05\n"
     ]
    },
    {
     "name": "stderr",
     "output_type": "stream",
     "text": [
      "                                             "
     ]
    },
    {
     "name": "stdout",
     "output_type": "stream",
     "text": [
      "Epoch 14/60: Train Loss: 0.2072 | Train Acc: 1.0000 | Val Loss: 0.3021 | Val Acc: 0.9440 | LR: 8.72e-05\n"
     ]
    },
    {
     "name": "stderr",
     "output_type": "stream",
     "text": [
      "                                             "
     ]
    },
    {
     "name": "stdout",
     "output_type": "stream",
     "text": [
      "Epoch 15/60: Train Loss: 0.2029 | Train Acc: 1.0000 | Val Loss: 0.2980 | Val Acc: 0.9280 | LR: 8.54e-05\n"
     ]
    },
    {
     "name": "stderr",
     "output_type": "stream",
     "text": [
      "                                             "
     ]
    },
    {
     "name": "stdout",
     "output_type": "stream",
     "text": [
      "Epoch 16/60: Train Loss: 0.2043 | Train Acc: 1.0000 | Val Loss: 0.3032 | Val Acc: 0.9280 | LR: 8.35e-05\n"
     ]
    },
    {
     "name": "stderr",
     "output_type": "stream",
     "text": [
      "                                             "
     ]
    },
    {
     "name": "stdout",
     "output_type": "stream",
     "text": [
      "Epoch 17/60: Train Loss: 0.2040 | Train Acc: 1.0000 | Val Loss: 0.3031 | Val Acc: 0.9360 | LR: 8.15e-05\n"
     ]
    },
    {
     "name": "stderr",
     "output_type": "stream",
     "text": [
      "                                             "
     ]
    },
    {
     "name": "stdout",
     "output_type": "stream",
     "text": [
      "Epoch 18/60: Train Loss: 0.2061 | Train Acc: 1.0000 | Val Loss: 0.2941 | Val Acc: 0.9360 | LR: 7.94e-05\n"
     ]
    },
    {
     "name": "stderr",
     "output_type": "stream",
     "text": [
      "                                             "
     ]
    },
    {
     "name": "stdout",
     "output_type": "stream",
     "text": [
      "Epoch 19/60: Train Loss: 0.2056 | Train Acc: 1.0000 | Val Loss: 0.2877 | Val Acc: 0.9440 | LR: 7.72e-05\n"
     ]
    },
    {
     "name": "stderr",
     "output_type": "stream",
     "text": [
      "                                             "
     ]
    },
    {
     "name": "stdout",
     "output_type": "stream",
     "text": [
      "Epoch 20/60: Train Loss: 0.2027 | Train Acc: 1.0000 | Val Loss: 0.2948 | Val Acc: 0.9280 | LR: 7.50e-05\n"
     ]
    },
    {
     "name": "stderr",
     "output_type": "stream",
     "text": [
      "                                             "
     ]
    },
    {
     "name": "stdout",
     "output_type": "stream",
     "text": [
      "Epoch 21/60: Train Loss: 0.2010 | Train Acc: 1.0000 | Val Loss: 0.2917 | Val Acc: 0.9440 | LR: 7.27e-05\n"
     ]
    },
    {
     "name": "stderr",
     "output_type": "stream",
     "text": [
      "                                             "
     ]
    },
    {
     "name": "stdout",
     "output_type": "stream",
     "text": [
      "Epoch 22/60: Train Loss: 0.2050 | Train Acc: 1.0000 | Val Loss: 0.2943 | Val Acc: 0.9360 | LR: 7.03e-05\n"
     ]
    },
    {
     "name": "stderr",
     "output_type": "stream",
     "text": [
      "                                             "
     ]
    },
    {
     "name": "stdout",
     "output_type": "stream",
     "text": [
      "Epoch 23/60: Train Loss: 0.2036 | Train Acc: 1.0000 | Val Loss: 0.3059 | Val Acc: 0.9440 | LR: 6.79e-05\n"
     ]
    },
    {
     "name": "stderr",
     "output_type": "stream",
     "text": [
      "/opt/conda/lib/python3.12/site-packages/torchvision/models/_utils.py:208: UserWarning: The parameter 'pretrained' is deprecated since 0.13 and may be removed in the future, please use 'weights' instead.\n",
      "  warnings.warn(\n",
      "/opt/conda/lib/python3.12/site-packages/torchvision/models/_utils.py:223: UserWarning: Arguments other than a weight enum or `None` for 'weights' are deprecated since 0.13 and may be removed in the future. The current behavior is equivalent to passing `weights=DenseNet121_Weights.IMAGENET1K_V1`. You can also use `weights=DenseNet121_Weights.DEFAULT` to get the most up-to-date weights.\n",
      "  warnings.warn(msg)\n"
     ]
    },
    {
     "name": "stdout",
     "output_type": "stream",
     "text": [
      "Epoch 24/60: Train Loss: 0.2012 | Train Acc: 1.0000 | Val Loss: 0.2918 | Val Acc: 0.9440 | LR: 6.55e-05\n",
      "🛑 Early stopping at epoch 24\n",
      "✅ Fold 1 Complete | Best Val Acc: 0.9440\n",
      "\n",
      "=== Fold 2/5 ===\n"
     ]
    },
    {
     "name": "stderr",
     "output_type": "stream",
     "text": [
      "                                             "
     ]
    },
    {
     "name": "stdout",
     "output_type": "stream",
     "text": [
      "Epoch 1/60: Train Loss: 0.4182 | Train Acc: 0.8577 | Val Loss: 0.6978 | Val Acc: 0.6240 | LR: 9.99e-05\n"
     ]
    },
    {
     "name": "stderr",
     "output_type": "stream",
     "text": [
      "                                             "
     ]
    },
    {
     "name": "stdout",
     "output_type": "stream",
     "text": [
      "Epoch 2/60: Train Loss: 0.2621 | Train Acc: 0.9699 | Val Loss: 0.5796 | Val Acc: 0.6720 | LR: 9.97e-05\n"
     ]
    },
    {
     "name": "stderr",
     "output_type": "stream",
     "text": [
      "                                             "
     ]
    },
    {
     "name": "stdout",
     "output_type": "stream",
     "text": [
      "Epoch 3/60: Train Loss: 0.2437 | Train Acc: 0.9860 | Val Loss: 0.4127 | Val Acc: 0.8720 | LR: 9.94e-05\n"
     ]
    },
    {
     "name": "stderr",
     "output_type": "stream",
     "text": [
      "                                             "
     ]
    },
    {
     "name": "stdout",
     "output_type": "stream",
     "text": [
      "Epoch 4/60: Train Loss: 0.2228 | Train Acc: 0.9940 | Val Loss: 0.3220 | Val Acc: 0.9280 | LR: 9.89e-05\n"
     ]
    },
    {
     "name": "stderr",
     "output_type": "stream",
     "text": [
      "                                             "
     ]
    },
    {
     "name": "stdout",
     "output_type": "stream",
     "text": [
      "Epoch 5/60: Train Loss: 0.2135 | Train Acc: 1.0000 | Val Loss: 0.3031 | Val Acc: 0.9440 | LR: 9.83e-05\n"
     ]
    },
    {
     "name": "stderr",
     "output_type": "stream",
     "text": [
      "                                             "
     ]
    },
    {
     "name": "stdout",
     "output_type": "stream",
     "text": [
      "Epoch 6/60: Train Loss: 0.2152 | Train Acc: 0.9960 | Val Loss: 0.2733 | Val Acc: 0.9600 | LR: 9.76e-05\n"
     ]
    },
    {
     "name": "stderr",
     "output_type": "stream",
     "text": [
      "                                             "
     ]
    },
    {
     "name": "stdout",
     "output_type": "stream",
     "text": [
      "Epoch 7/60: Train Loss: 0.2083 | Train Acc: 1.0000 | Val Loss: 0.2702 | Val Acc: 0.9600 | LR: 9.67e-05\n"
     ]
    },
    {
     "name": "stderr",
     "output_type": "stream",
     "text": [
      "                                             "
     ]
    },
    {
     "name": "stdout",
     "output_type": "stream",
     "text": [
      "Epoch 8/60: Train Loss: 0.2128 | Train Acc: 1.0000 | Val Loss: 0.2624 | Val Acc: 0.9680 | LR: 9.57e-05\n"
     ]
    },
    {
     "name": "stderr",
     "output_type": "stream",
     "text": [
      "                                             "
     ]
    },
    {
     "name": "stdout",
     "output_type": "stream",
     "text": [
      "Epoch 9/60: Train Loss: 0.2146 | Train Acc: 0.9960 | Val Loss: 0.2599 | Val Acc: 0.9760 | LR: 9.46e-05\n"
     ]
    },
    {
     "name": "stderr",
     "output_type": "stream",
     "text": [
      "                                             "
     ]
    },
    {
     "name": "stdout",
     "output_type": "stream",
     "text": [
      "Epoch 10/60: Train Loss: 0.2107 | Train Acc: 1.0000 | Val Loss: 0.2656 | Val Acc: 0.9520 | LR: 9.33e-05\n"
     ]
    },
    {
     "name": "stderr",
     "output_type": "stream",
     "text": [
      "                                             "
     ]
    },
    {
     "name": "stdout",
     "output_type": "stream",
     "text": [
      "Epoch 11/60: Train Loss: 0.2050 | Train Acc: 1.0000 | Val Loss: 0.2561 | Val Acc: 0.9760 | LR: 9.19e-05\n"
     ]
    },
    {
     "name": "stderr",
     "output_type": "stream",
     "text": [
      "                                             "
     ]
    },
    {
     "name": "stdout",
     "output_type": "stream",
     "text": [
      "Epoch 12/60: Train Loss: 0.2061 | Train Acc: 1.0000 | Val Loss: 0.2575 | Val Acc: 0.9600 | LR: 9.05e-05\n"
     ]
    },
    {
     "name": "stderr",
     "output_type": "stream",
     "text": [
      "                                             "
     ]
    },
    {
     "name": "stdout",
     "output_type": "stream",
     "text": [
      "Epoch 13/60: Train Loss: 0.2077 | Train Acc: 1.0000 | Val Loss: 0.2542 | Val Acc: 0.9840 | LR: 8.89e-05\n"
     ]
    },
    {
     "name": "stderr",
     "output_type": "stream",
     "text": [
      "                                             "
     ]
    },
    {
     "name": "stdout",
     "output_type": "stream",
     "text": [
      "Epoch 14/60: Train Loss: 0.2040 | Train Acc: 1.0000 | Val Loss: 0.2606 | Val Acc: 0.9600 | LR: 8.72e-05\n"
     ]
    },
    {
     "name": "stderr",
     "output_type": "stream",
     "text": [
      "                                             "
     ]
    },
    {
     "name": "stdout",
     "output_type": "stream",
     "text": [
      "Epoch 15/60: Train Loss: 0.2079 | Train Acc: 1.0000 | Val Loss: 0.2529 | Val Acc: 0.9840 | LR: 8.54e-05\n"
     ]
    },
    {
     "name": "stderr",
     "output_type": "stream",
     "text": [
      "                                             "
     ]
    },
    {
     "name": "stdout",
     "output_type": "stream",
     "text": [
      "Epoch 16/60: Train Loss: 0.2034 | Train Acc: 1.0000 | Val Loss: 0.2546 | Val Acc: 0.9680 | LR: 8.35e-05\n"
     ]
    },
    {
     "name": "stderr",
     "output_type": "stream",
     "text": [
      "                                             "
     ]
    },
    {
     "name": "stdout",
     "output_type": "stream",
     "text": [
      "Epoch 17/60: Train Loss: 0.2027 | Train Acc: 1.0000 | Val Loss: 0.2513 | Val Acc: 0.9760 | LR: 8.15e-05\n"
     ]
    },
    {
     "name": "stderr",
     "output_type": "stream",
     "text": [
      "                                             "
     ]
    },
    {
     "name": "stdout",
     "output_type": "stream",
     "text": [
      "Epoch 18/60: Train Loss: 0.2053 | Train Acc: 1.0000 | Val Loss: 0.2482 | Val Acc: 0.9840 | LR: 7.94e-05\n"
     ]
    },
    {
     "name": "stderr",
     "output_type": "stream",
     "text": [
      "                                             "
     ]
    },
    {
     "name": "stdout",
     "output_type": "stream",
     "text": [
      "Epoch 19/60: Train Loss: 0.2048 | Train Acc: 1.0000 | Val Loss: 0.2500 | Val Acc: 0.9840 | LR: 7.72e-05\n"
     ]
    },
    {
     "name": "stderr",
     "output_type": "stream",
     "text": [
      "                                             "
     ]
    },
    {
     "name": "stdout",
     "output_type": "stream",
     "text": [
      "Epoch 20/60: Train Loss: 0.2055 | Train Acc: 1.0000 | Val Loss: 0.2550 | Val Acc: 0.9520 | LR: 7.50e-05\n"
     ]
    },
    {
     "name": "stderr",
     "output_type": "stream",
     "text": [
      "                                             "
     ]
    },
    {
     "name": "stdout",
     "output_type": "stream",
     "text": [
      "Epoch 21/60: Train Loss: 0.2053 | Train Acc: 1.0000 | Val Loss: 0.2529 | Val Acc: 0.9760 | LR: 7.27e-05\n"
     ]
    },
    {
     "name": "stderr",
     "output_type": "stream",
     "text": [
      "                                             "
     ]
    },
    {
     "name": "stdout",
     "output_type": "stream",
     "text": [
      "Epoch 22/60: Train Loss: 0.2044 | Train Acc: 1.0000 | Val Loss: 0.2524 | Val Acc: 0.9760 | LR: 7.03e-05\n"
     ]
    },
    {
     "name": "stderr",
     "output_type": "stream",
     "text": [
      "/opt/conda/lib/python3.12/site-packages/torchvision/models/_utils.py:208: UserWarning: The parameter 'pretrained' is deprecated since 0.13 and may be removed in the future, please use 'weights' instead.\n",
      "  warnings.warn(\n",
      "/opt/conda/lib/python3.12/site-packages/torchvision/models/_utils.py:223: UserWarning: Arguments other than a weight enum or `None` for 'weights' are deprecated since 0.13 and may be removed in the future. The current behavior is equivalent to passing `weights=DenseNet121_Weights.IMAGENET1K_V1`. You can also use `weights=DenseNet121_Weights.DEFAULT` to get the most up-to-date weights.\n",
      "  warnings.warn(msg)\n"
     ]
    },
    {
     "name": "stdout",
     "output_type": "stream",
     "text": [
      "Epoch 23/60: Train Loss: 0.2042 | Train Acc: 1.0000 | Val Loss: 0.2501 | Val Acc: 0.9760 | LR: 6.79e-05\n",
      "🛑 Early stopping at epoch 23\n",
      "✅ Fold 2 Complete | Best Val Acc: 0.9840\n",
      "\n",
      "=== Fold 3/5 ===\n"
     ]
    },
    {
     "name": "stderr",
     "output_type": "stream",
     "text": [
      "                                             "
     ]
    },
    {
     "name": "stdout",
     "output_type": "stream",
     "text": [
      "Epoch 1/60: Train Loss: 0.4136 | Train Acc: 0.8838 | Val Loss: 0.7319 | Val Acc: 0.6240 | LR: 9.99e-05\n"
     ]
    },
    {
     "name": "stderr",
     "output_type": "stream",
     "text": [
      "                                             "
     ]
    },
    {
     "name": "stdout",
     "output_type": "stream",
     "text": [
      "Epoch 2/60: Train Loss: 0.2663 | Train Acc: 0.9639 | Val Loss: 0.5785 | Val Acc: 0.7120 | LR: 9.97e-05\n"
     ]
    },
    {
     "name": "stderr",
     "output_type": "stream",
     "text": [
      "                                             "
     ]
    },
    {
     "name": "stdout",
     "output_type": "stream",
     "text": [
      "Epoch 3/60: Train Loss: 0.2345 | Train Acc: 0.9880 | Val Loss: 0.4470 | Val Acc: 0.7840 | LR: 9.94e-05\n"
     ]
    },
    {
     "name": "stderr",
     "output_type": "stream",
     "text": [
      "                                             "
     ]
    },
    {
     "name": "stdout",
     "output_type": "stream",
     "text": [
      "Epoch 4/60: Train Loss: 0.2226 | Train Acc: 1.0000 | Val Loss: 0.3454 | Val Acc: 0.9280 | LR: 9.89e-05\n"
     ]
    },
    {
     "name": "stderr",
     "output_type": "stream",
     "text": [
      "                                             "
     ]
    },
    {
     "name": "stdout",
     "output_type": "stream",
     "text": [
      "Epoch 5/60: Train Loss: 0.2153 | Train Acc: 0.9980 | Val Loss: 0.3204 | Val Acc: 0.9360 | LR: 9.83e-05\n"
     ]
    },
    {
     "name": "stderr",
     "output_type": "stream",
     "text": [
      "                                             "
     ]
    },
    {
     "name": "stdout",
     "output_type": "stream",
     "text": [
      "Epoch 6/60: Train Loss: 0.2129 | Train Acc: 1.0000 | Val Loss: 0.3158 | Val Acc: 0.9360 | LR: 9.76e-05\n"
     ]
    },
    {
     "name": "stderr",
     "output_type": "stream",
     "text": [
      "                                             "
     ]
    },
    {
     "name": "stdout",
     "output_type": "stream",
     "text": [
      "Epoch 7/60: Train Loss: 0.2204 | Train Acc: 1.0000 | Val Loss: 0.3188 | Val Acc: 0.9280 | LR: 9.67e-05\n"
     ]
    },
    {
     "name": "stderr",
     "output_type": "stream",
     "text": [
      "                                             "
     ]
    },
    {
     "name": "stdout",
     "output_type": "stream",
     "text": [
      "Epoch 8/60: Train Loss: 0.2092 | Train Acc: 1.0000 | Val Loss: 0.3077 | Val Acc: 0.9360 | LR: 9.57e-05\n"
     ]
    },
    {
     "name": "stderr",
     "output_type": "stream",
     "text": [
      "                                             "
     ]
    },
    {
     "name": "stdout",
     "output_type": "stream",
     "text": [
      "Epoch 9/60: Train Loss: 0.2113 | Train Acc: 0.9980 | Val Loss: 0.3134 | Val Acc: 0.9360 | LR: 9.46e-05\n"
     ]
    },
    {
     "name": "stderr",
     "output_type": "stream",
     "text": [
      "                                             "
     ]
    },
    {
     "name": "stdout",
     "output_type": "stream",
     "text": [
      "Epoch 10/60: Train Loss: 0.2090 | Train Acc: 1.0000 | Val Loss: 0.3120 | Val Acc: 0.9360 | LR: 9.33e-05\n"
     ]
    },
    {
     "name": "stderr",
     "output_type": "stream",
     "text": [
      "                                             "
     ]
    },
    {
     "name": "stdout",
     "output_type": "stream",
     "text": [
      "Epoch 11/60: Train Loss: 0.2118 | Train Acc: 1.0000 | Val Loss: 0.3015 | Val Acc: 0.9440 | LR: 9.19e-05\n"
     ]
    },
    {
     "name": "stderr",
     "output_type": "stream",
     "text": [
      "                                             "
     ]
    },
    {
     "name": "stdout",
     "output_type": "stream",
     "text": [
      "Epoch 12/60: Train Loss: 0.2063 | Train Acc: 1.0000 | Val Loss: 0.2981 | Val Acc: 0.9520 | LR: 9.05e-05\n"
     ]
    },
    {
     "name": "stderr",
     "output_type": "stream",
     "text": [
      "                                             "
     ]
    },
    {
     "name": "stdout",
     "output_type": "stream",
     "text": [
      "Epoch 13/60: Train Loss: 0.2082 | Train Acc: 1.0000 | Val Loss: 0.2912 | Val Acc: 0.9520 | LR: 8.89e-05\n"
     ]
    },
    {
     "name": "stderr",
     "output_type": "stream",
     "text": [
      "                                             "
     ]
    },
    {
     "name": "stdout",
     "output_type": "stream",
     "text": [
      "Epoch 14/60: Train Loss: 0.2079 | Train Acc: 1.0000 | Val Loss: 0.2979 | Val Acc: 0.9360 | LR: 8.72e-05\n"
     ]
    },
    {
     "name": "stderr",
     "output_type": "stream",
     "text": [
      "                                             "
     ]
    },
    {
     "name": "stdout",
     "output_type": "stream",
     "text": [
      "Epoch 15/60: Train Loss: 0.2046 | Train Acc: 1.0000 | Val Loss: 0.3092 | Val Acc: 0.9440 | LR: 8.54e-05\n"
     ]
    },
    {
     "name": "stderr",
     "output_type": "stream",
     "text": [
      "                                             "
     ]
    },
    {
     "name": "stdout",
     "output_type": "stream",
     "text": [
      "Epoch 16/60: Train Loss: 0.2067 | Train Acc: 1.0000 | Val Loss: 0.2978 | Val Acc: 0.9440 | LR: 8.35e-05\n"
     ]
    },
    {
     "name": "stderr",
     "output_type": "stream",
     "text": [
      "                                             "
     ]
    },
    {
     "name": "stdout",
     "output_type": "stream",
     "text": [
      "Epoch 17/60: Train Loss: 0.2048 | Train Acc: 1.0000 | Val Loss: 0.3020 | Val Acc: 0.9440 | LR: 8.15e-05\n"
     ]
    },
    {
     "name": "stderr",
     "output_type": "stream",
     "text": [
      "                                             "
     ]
    },
    {
     "name": "stdout",
     "output_type": "stream",
     "text": [
      "Epoch 18/60: Train Loss: 0.2063 | Train Acc: 1.0000 | Val Loss: 0.3030 | Val Acc: 0.9280 | LR: 7.94e-05\n"
     ]
    },
    {
     "name": "stderr",
     "output_type": "stream",
     "text": [
      "                                             "
     ]
    },
    {
     "name": "stdout",
     "output_type": "stream",
     "text": [
      "Epoch 19/60: Train Loss: 0.2168 | Train Acc: 0.9980 | Val Loss: 0.2965 | Val Acc: 0.9360 | LR: 7.72e-05\n"
     ]
    },
    {
     "name": "stderr",
     "output_type": "stream",
     "text": [
      "                                             "
     ]
    },
    {
     "name": "stdout",
     "output_type": "stream",
     "text": [
      "Epoch 20/60: Train Loss: 0.2053 | Train Acc: 1.0000 | Val Loss: 0.2957 | Val Acc: 0.9440 | LR: 7.50e-05\n"
     ]
    },
    {
     "name": "stderr",
     "output_type": "stream",
     "text": [
      "                                             "
     ]
    },
    {
     "name": "stdout",
     "output_type": "stream",
     "text": [
      "Epoch 21/60: Train Loss: 0.2041 | Train Acc: 1.0000 | Val Loss: 0.2968 | Val Acc: 0.9360 | LR: 7.27e-05\n"
     ]
    },
    {
     "name": "stderr",
     "output_type": "stream",
     "text": [
      "/opt/conda/lib/python3.12/site-packages/torchvision/models/_utils.py:208: UserWarning: The parameter 'pretrained' is deprecated since 0.13 and may be removed in the future, please use 'weights' instead.\n",
      "  warnings.warn(\n",
      "/opt/conda/lib/python3.12/site-packages/torchvision/models/_utils.py:223: UserWarning: Arguments other than a weight enum or `None` for 'weights' are deprecated since 0.13 and may be removed in the future. The current behavior is equivalent to passing `weights=DenseNet121_Weights.IMAGENET1K_V1`. You can also use `weights=DenseNet121_Weights.DEFAULT` to get the most up-to-date weights.\n",
      "  warnings.warn(msg)\n"
     ]
    },
    {
     "name": "stdout",
     "output_type": "stream",
     "text": [
      "Epoch 22/60: Train Loss: 0.2033 | Train Acc: 1.0000 | Val Loss: 0.2910 | Val Acc: 0.9440 | LR: 7.03e-05\n",
      "🛑 Early stopping at epoch 22\n",
      "✅ Fold 3 Complete | Best Val Acc: 0.9520\n",
      "\n",
      "=== Fold 4/5 ===\n"
     ]
    },
    {
     "name": "stderr",
     "output_type": "stream",
     "text": [
      "                                             "
     ]
    },
    {
     "name": "stdout",
     "output_type": "stream",
     "text": [
      "Epoch 1/60: Train Loss: 0.3912 | Train Acc: 0.8978 | Val Loss: 0.7684 | Val Acc: 0.6240 | LR: 9.99e-05\n"
     ]
    },
    {
     "name": "stderr",
     "output_type": "stream",
     "text": [
      "                                             "
     ]
    },
    {
     "name": "stdout",
     "output_type": "stream",
     "text": [
      "Epoch 2/60: Train Loss: 0.2546 | Train Acc: 0.9699 | Val Loss: 0.4267 | Val Acc: 0.8880 | LR: 9.97e-05\n"
     ]
    },
    {
     "name": "stderr",
     "output_type": "stream",
     "text": [
      "                                             "
     ]
    },
    {
     "name": "stdout",
     "output_type": "stream",
     "text": [
      "Epoch 3/60: Train Loss: 0.2461 | Train Acc: 0.9880 | Val Loss: 0.3603 | Val Acc: 0.9200 | LR: 9.94e-05\n"
     ]
    },
    {
     "name": "stderr",
     "output_type": "stream",
     "text": [
      "                                             "
     ]
    },
    {
     "name": "stdout",
     "output_type": "stream",
     "text": [
      "Epoch 4/60: Train Loss: 0.2362 | Train Acc: 0.9900 | Val Loss: 0.3757 | Val Acc: 0.8960 | LR: 9.89e-05\n"
     ]
    },
    {
     "name": "stderr",
     "output_type": "stream",
     "text": [
      "                                             "
     ]
    },
    {
     "name": "stdout",
     "output_type": "stream",
     "text": [
      "Epoch 5/60: Train Loss: 0.2198 | Train Acc: 0.9960 | Val Loss: 0.3246 | Val Acc: 0.9280 | LR: 9.83e-05\n"
     ]
    },
    {
     "name": "stderr",
     "output_type": "stream",
     "text": [
      "                                             "
     ]
    },
    {
     "name": "stdout",
     "output_type": "stream",
     "text": [
      "Epoch 6/60: Train Loss: 0.2206 | Train Acc: 1.0000 | Val Loss: 0.3299 | Val Acc: 0.9360 | LR: 9.76e-05\n"
     ]
    },
    {
     "name": "stderr",
     "output_type": "stream",
     "text": [
      "                                             "
     ]
    },
    {
     "name": "stdout",
     "output_type": "stream",
     "text": [
      "Epoch 7/60: Train Loss: 0.2194 | Train Acc: 0.9980 | Val Loss: 0.3072 | Val Acc: 0.9600 | LR: 9.67e-05\n"
     ]
    },
    {
     "name": "stderr",
     "output_type": "stream",
     "text": [
      "                                             "
     ]
    },
    {
     "name": "stdout",
     "output_type": "stream",
     "text": [
      "Epoch 8/60: Train Loss: 0.2100 | Train Acc: 1.0000 | Val Loss: 0.2971 | Val Acc: 0.9520 | LR: 9.57e-05\n"
     ]
    },
    {
     "name": "stderr",
     "output_type": "stream",
     "text": [
      "                                             "
     ]
    },
    {
     "name": "stdout",
     "output_type": "stream",
     "text": [
      "Epoch 9/60: Train Loss: 0.2092 | Train Acc: 1.0000 | Val Loss: 0.3077 | Val Acc: 0.9440 | LR: 9.46e-05\n"
     ]
    },
    {
     "name": "stderr",
     "output_type": "stream",
     "text": [
      "                                             "
     ]
    },
    {
     "name": "stdout",
     "output_type": "stream",
     "text": [
      "Epoch 10/60: Train Loss: 0.2094 | Train Acc: 1.0000 | Val Loss: 0.3103 | Val Acc: 0.9360 | LR: 9.33e-05\n"
     ]
    },
    {
     "name": "stderr",
     "output_type": "stream",
     "text": [
      "                                             "
     ]
    },
    {
     "name": "stdout",
     "output_type": "stream",
     "text": [
      "Epoch 11/60: Train Loss: 0.2057 | Train Acc: 1.0000 | Val Loss: 0.3202 | Val Acc: 0.9200 | LR: 9.19e-05\n"
     ]
    },
    {
     "name": "stderr",
     "output_type": "stream",
     "text": [
      "                                             "
     ]
    },
    {
     "name": "stdout",
     "output_type": "stream",
     "text": [
      "Epoch 12/60: Train Loss: 0.2079 | Train Acc: 1.0000 | Val Loss: 0.3025 | Val Acc: 0.9360 | LR: 9.05e-05\n"
     ]
    },
    {
     "name": "stderr",
     "output_type": "stream",
     "text": [
      "                                             "
     ]
    },
    {
     "name": "stdout",
     "output_type": "stream",
     "text": [
      "Epoch 13/60: Train Loss: 0.2140 | Train Acc: 1.0000 | Val Loss: 0.3007 | Val Acc: 0.9600 | LR: 8.89e-05\n"
     ]
    },
    {
     "name": "stderr",
     "output_type": "stream",
     "text": [
      "                                             "
     ]
    },
    {
     "name": "stdout",
     "output_type": "stream",
     "text": [
      "Epoch 14/60: Train Loss: 0.2094 | Train Acc: 1.0000 | Val Loss: 0.3072 | Val Acc: 0.9600 | LR: 8.72e-05\n"
     ]
    },
    {
     "name": "stderr",
     "output_type": "stream",
     "text": [
      "                                             "
     ]
    },
    {
     "name": "stdout",
     "output_type": "stream",
     "text": [
      "Epoch 15/60: Train Loss: 0.2077 | Train Acc: 1.0000 | Val Loss: 0.2980 | Val Acc: 0.9600 | LR: 8.54e-05\n"
     ]
    },
    {
     "name": "stderr",
     "output_type": "stream",
     "text": [
      "                                             "
     ]
    },
    {
     "name": "stdout",
     "output_type": "stream",
     "text": [
      "Epoch 16/60: Train Loss: 0.2064 | Train Acc: 1.0000 | Val Loss: 0.2899 | Val Acc: 0.9600 | LR: 8.35e-05\n"
     ]
    },
    {
     "name": "stderr",
     "output_type": "stream",
     "text": [
      "/opt/conda/lib/python3.12/site-packages/torchvision/models/_utils.py:208: UserWarning: The parameter 'pretrained' is deprecated since 0.13 and may be removed in the future, please use 'weights' instead.\n",
      "  warnings.warn(\n",
      "/opt/conda/lib/python3.12/site-packages/torchvision/models/_utils.py:223: UserWarning: Arguments other than a weight enum or `None` for 'weights' are deprecated since 0.13 and may be removed in the future. The current behavior is equivalent to passing `weights=DenseNet121_Weights.IMAGENET1K_V1`. You can also use `weights=DenseNet121_Weights.DEFAULT` to get the most up-to-date weights.\n",
      "  warnings.warn(msg)\n"
     ]
    },
    {
     "name": "stdout",
     "output_type": "stream",
     "text": [
      "Epoch 17/60: Train Loss: 0.2035 | Train Acc: 1.0000 | Val Loss: 0.2947 | Val Acc: 0.9520 | LR: 8.15e-05\n",
      "🛑 Early stopping at epoch 17\n",
      "✅ Fold 4 Complete | Best Val Acc: 0.9600\n",
      "\n",
      "=== Fold 5/5 ===\n"
     ]
    },
    {
     "name": "stderr",
     "output_type": "stream",
     "text": [
      "                                             "
     ]
    },
    {
     "name": "stdout",
     "output_type": "stream",
     "text": [
      "Epoch 1/60: Train Loss: 0.4174 | Train Acc: 0.8660 | Val Loss: 0.6083 | Val Acc: 0.7339 | LR: 9.99e-05\n"
     ]
    },
    {
     "name": "stderr",
     "output_type": "stream",
     "text": [
      "                                             "
     ]
    },
    {
     "name": "stdout",
     "output_type": "stream",
     "text": [
      "Epoch 2/60: Train Loss: 0.2814 | Train Acc: 0.9580 | Val Loss: 0.6110 | Val Acc: 0.6694 | LR: 9.97e-05\n"
     ]
    },
    {
     "name": "stderr",
     "output_type": "stream",
     "text": [
      "                                             "
     ]
    },
    {
     "name": "stdout",
     "output_type": "stream",
     "text": [
      "Epoch 3/60: Train Loss: 0.2390 | Train Acc: 0.9900 | Val Loss: 0.6364 | Val Acc: 0.6694 | LR: 9.94e-05\n"
     ]
    },
    {
     "name": "stderr",
     "output_type": "stream",
     "text": [
      "                                             "
     ]
    },
    {
     "name": "stdout",
     "output_type": "stream",
     "text": [
      "Epoch 4/60: Train Loss: 0.2337 | Train Acc: 0.9880 | Val Loss: 0.4105 | Val Acc: 0.8790 | LR: 9.89e-05\n"
     ]
    },
    {
     "name": "stderr",
     "output_type": "stream",
     "text": [
      "                                             "
     ]
    },
    {
     "name": "stdout",
     "output_type": "stream",
     "text": [
      "Epoch 5/60: Train Loss: 0.2228 | Train Acc: 1.0000 | Val Loss: 0.2989 | Val Acc: 0.9435 | LR: 9.83e-05\n"
     ]
    },
    {
     "name": "stderr",
     "output_type": "stream",
     "text": [
      "                                             "
     ]
    },
    {
     "name": "stdout",
     "output_type": "stream",
     "text": [
      "Epoch 6/60: Train Loss: 0.2206 | Train Acc: 1.0000 | Val Loss: 0.2751 | Val Acc: 0.9597 | LR: 9.76e-05\n"
     ]
    },
    {
     "name": "stderr",
     "output_type": "stream",
     "text": [
      "                                             "
     ]
    },
    {
     "name": "stdout",
     "output_type": "stream",
     "text": [
      "Epoch 7/60: Train Loss: 0.2125 | Train Acc: 1.0000 | Val Loss: 0.2724 | Val Acc: 0.9597 | LR: 9.67e-05\n"
     ]
    },
    {
     "name": "stderr",
     "output_type": "stream",
     "text": [
      "                                             "
     ]
    },
    {
     "name": "stdout",
     "output_type": "stream",
     "text": [
      "Epoch 8/60: Train Loss: 0.2115 | Train Acc: 1.0000 | Val Loss: 0.2890 | Val Acc: 0.9435 | LR: 9.57e-05\n"
     ]
    },
    {
     "name": "stderr",
     "output_type": "stream",
     "text": [
      "                                             "
     ]
    },
    {
     "name": "stdout",
     "output_type": "stream",
     "text": [
      "Epoch 9/60: Train Loss: 0.2078 | Train Acc: 1.0000 | Val Loss: 0.2865 | Val Acc: 0.9516 | LR: 9.46e-05\n"
     ]
    },
    {
     "name": "stderr",
     "output_type": "stream",
     "text": [
      "                                             "
     ]
    },
    {
     "name": "stdout",
     "output_type": "stream",
     "text": [
      "Epoch 10/60: Train Loss: 0.2125 | Train Acc: 0.9980 | Val Loss: 0.2742 | Val Acc: 0.9597 | LR: 9.33e-05\n"
     ]
    },
    {
     "name": "stderr",
     "output_type": "stream",
     "text": [
      "                                             "
     ]
    },
    {
     "name": "stdout",
     "output_type": "stream",
     "text": [
      "Epoch 11/60: Train Loss: 0.2092 | Train Acc: 1.0000 | Val Loss: 0.2678 | Val Acc: 0.9597 | LR: 9.19e-05\n"
     ]
    },
    {
     "name": "stderr",
     "output_type": "stream",
     "text": [
      "                                             "
     ]
    },
    {
     "name": "stdout",
     "output_type": "stream",
     "text": [
      "Epoch 12/60: Train Loss: 0.2044 | Train Acc: 1.0000 | Val Loss: 0.2688 | Val Acc: 0.9597 | LR: 9.05e-05\n"
     ]
    },
    {
     "name": "stderr",
     "output_type": "stream",
     "text": [
      "                                             "
     ]
    },
    {
     "name": "stdout",
     "output_type": "stream",
     "text": [
      "Epoch 13/60: Train Loss: 0.2057 | Train Acc: 1.0000 | Val Loss: 0.2726 | Val Acc: 0.9597 | LR: 8.89e-05\n"
     ]
    },
    {
     "name": "stderr",
     "output_type": "stream",
     "text": [
      "                                             "
     ]
    },
    {
     "name": "stdout",
     "output_type": "stream",
     "text": [
      "Epoch 14/60: Train Loss: 0.2055 | Train Acc: 1.0000 | Val Loss: 0.2777 | Val Acc: 0.9516 | LR: 8.72e-05\n"
     ]
    },
    {
     "name": "stderr",
     "output_type": "stream",
     "text": [
      "                                             "
     ]
    },
    {
     "name": "stdout",
     "output_type": "stream",
     "text": [
      "Epoch 15/60: Train Loss: 0.2091 | Train Acc: 1.0000 | Val Loss: 0.2779 | Val Acc: 0.9597 | LR: 8.54e-05\n"
     ]
    },
    {
     "name": "stderr",
     "output_type": "stream",
     "text": [
      "                                             "
     ]
    },
    {
     "name": "stdout",
     "output_type": "stream",
     "text": [
      "Epoch 16/60: Train Loss: 0.2057 | Train Acc: 1.0000 | Val Loss: 0.2757 | Val Acc: 0.9597 | LR: 8.35e-05\n",
      "🛑 Early stopping at epoch 16\n",
      "✅ Fold 5 Complete | Best Val Acc: 0.9597\n",
      "\n",
      "📊 K-Fold Validation Results: 0.9599 ± 0.0134\n",
      "\n",
      "🏆 Test Set Performance:\n",
      "Balanced Accuracy: 0.9966\n",
      "ROC AUC: 0.9999\n",
      "MCC: 0.9932\n",
      "Sensitivity: 0.9974\n",
      "Specificity: 0.9957\n"
     ]
    }
   ],
   "source": [
    "import torch\n",
    "import torch.nn as nn\n",
    "import torch.optim as optim\n",
    "from torch.utils.data import DataLoader, Subset, WeightedRandomSampler\n",
    "from sklearn.model_selection import StratifiedKFold\n",
    "from sklearn.metrics import (classification_report, confusion_matrix, \n",
    "                           roc_auc_score, average_precision_score,\n",
    "                           matthews_corrcoef, balanced_accuracy_score,\n",
    "                           cohen_kappa_score, roc_curve, auc)\n",
    "from sklearn.utils.class_weight import compute_class_weight\n",
    "from tqdm import tqdm\n",
    "import numpy as np\n",
    "import matplotlib.pyplot as plt\n",
    "import seaborn as sns\n",
    "import os\n",
    "from typing import Tuple, Dict, List\n",
    "\n",
    "# Configuration\n",
    "class Config:\n",
    "    SEED = 42\n",
    "    K_FOLDS = 5\n",
    "    EPOCHS = 60\n",
    "    BATCH_SIZE = 32\n",
    "    LR = 1e-4\n",
    "    WEIGHT_DECAY = 1e-4\n",
    "    LABEL_SMOOTHING = 0.1\n",
    "    EARLY_STOP_PATIENCE = 10\n",
    "    MODEL_CHECKPOINT_DIR = \"checkpoints\"\n",
    "    PLOTS_DIR = \"plots\"\n",
    "\n",
    "# Setup directories\n",
    "os.makedirs(Config.MODEL_CHECKPOINT_DIR, exist_ok=True)\n",
    "os.makedirs(Config.PLOTS_DIR, exist_ok=True)\n",
    "\n",
    "# Set random seeds for reproducibility\n",
    "torch.manual_seed(Config.SEED)\n",
    "np.random.seed(Config.SEED)\n",
    "\n",
    "class LabelSmoothingCrossEntropy(nn.Module):\n",
    "    \"\"\"Improved label smoothing implementation with better numerical stability\"\"\"\n",
    "    def __init__(self, epsilon: float = Config.LABEL_SMOOTHING, reduction: str = 'mean'):\n",
    "        super().__init__()\n",
    "        self.epsilon = epsilon\n",
    "        self.reduction = reduction\n",
    "        self.log_softmax = nn.LogSoftmax(dim=-1)\n",
    "\n",
    "    def forward(self, preds: torch.Tensor, target: torch.Tensor) -> torch.Tensor:\n",
    "        n_classes = preds.size()[-1]\n",
    "        log_preds = self.log_softmax(preds)\n",
    "        loss = -log_preds.sum(dim=-1) / n_classes  # Mean over classes\n",
    "        nll = -log_preds.gather(dim=-1, index=target.unsqueeze(1)).squeeze(1)\n",
    "        loss = loss * self.epsilon + (1 - self.epsilon) * nll\n",
    "        \n",
    "        if self.reduction == 'mean':\n",
    "            return loss.mean()\n",
    "        elif self.reduction == 'sum':\n",
    "            return loss.sum()\n",
    "        return loss\n",
    "\n",
    "def train_one_epoch(model: nn.Module, \n",
    "                   dataloader: DataLoader, \n",
    "                   criterion: nn.Module, \n",
    "                   optimizer: optim.Optimizer, \n",
    "                   device: torch.device,\n",
    "                   scheduler: optim.lr_scheduler._LRScheduler = None) -> Tuple[float, float, np.ndarray, np.ndarray]:\n",
    "    \"\"\"Enhanced training loop with gradient clipping and learning rate monitoring\"\"\"\n",
    "    model.train()\n",
    "    running_loss = 0.0\n",
    "    correct = 0\n",
    "    total = 0\n",
    "    all_preds = []\n",
    "    all_labels = []\n",
    "    \n",
    "    for images, labels in tqdm(dataloader, desc=\"Training\", leave=False):\n",
    "        images, labels = images.to(device), labels.to(device)\n",
    "        \n",
    "        optimizer.zero_grad(set_to_none=True)  # More memory efficient\n",
    "        outputs = model(images)\n",
    "        loss = criterion(outputs, labels)\n",
    "        loss.backward()\n",
    "        \n",
    "        # Gradient clipping\n",
    "        torch.nn.utils.clip_grad_norm_(model.parameters(), max_norm=1.0)\n",
    "        optimizer.step()\n",
    "        \n",
    "        running_loss += loss.item() * images.size(0)\n",
    "        _, preds = torch.max(outputs, 1)\n",
    "        correct += (preds == labels).sum().item()\n",
    "        total += labels.size(0)\n",
    "        \n",
    "        all_preds.append(preds.detach().cpu().numpy())\n",
    "        all_labels.append(labels.detach().cpu().numpy())\n",
    "    \n",
    "    if scheduler:\n",
    "        scheduler.step()\n",
    "    \n",
    "    epoch_loss = running_loss / total\n",
    "    epoch_acc = correct / total\n",
    "    return epoch_loss, epoch_acc, np.concatenate(all_preds), np.concatenate(all_labels)\n",
    "\n",
    "def validate(model: nn.Module, \n",
    "            dataloader: DataLoader, \n",
    "            criterion: nn.Module, \n",
    "            device: torch.device) -> Tuple[float, float, np.ndarray, np.ndarray]:\n",
    "    \"\"\"Validation with full metrics tracking\"\"\"\n",
    "    model.eval()\n",
    "    running_loss = 0.0\n",
    "    correct = 0\n",
    "    total = 0\n",
    "    all_preds = []\n",
    "    all_labels = []\n",
    "    all_probs = []\n",
    "    \n",
    "    with torch.no_grad():\n",
    "        for images, labels in tqdm(dataloader, desc=\"Validating\", leave=False):\n",
    "            images, labels = images.to(device), labels.to(device)\n",
    "            \n",
    "            outputs = model(images)\n",
    "            loss = criterion(outputs, labels)\n",
    "            \n",
    "            running_loss += loss.item() * images.size(0)\n",
    "            _, preds = torch.max(outputs, 1)\n",
    "            probs = torch.softmax(outputs, dim=1)\n",
    "            \n",
    "            correct += (preds == labels).sum().item()\n",
    "            total += labels.size(0)\n",
    "            \n",
    "            all_preds.append(preds.cpu().numpy())\n",
    "            all_labels.append(labels.cpu().numpy())\n",
    "            all_probs.append(probs.cpu().numpy())\n",
    "    \n",
    "    epoch_loss = running_loss / total\n",
    "    epoch_acc = correct / total\n",
    "    return (epoch_loss, epoch_acc, \n",
    "            np.concatenate(all_preds), \n",
    "            np.concatenate(all_labels),\n",
    "            np.concatenate(all_probs))\n",
    "\n",
    "def evaluate(model: nn.Module, \n",
    "            dataloader: DataLoader, \n",
    "            device: torch.device) -> Dict[str, float]:\n",
    "    \"\"\"Comprehensive evaluation with clinical and statistical metrics\"\"\"\n",
    "    model.eval()\n",
    "    all_preds = []\n",
    "    all_labels = []\n",
    "    all_probs = []\n",
    "    \n",
    "    with torch.no_grad():\n",
    "        for images, labels in dataloader:\n",
    "            images, labels = images.to(device), labels.to(device)\n",
    "            outputs = model(images)\n",
    "            probs = torch.softmax(outputs, dim=1)\n",
    "            _, preds = torch.max(outputs, 1)\n",
    "            \n",
    "            all_preds.append(preds.cpu().numpy())\n",
    "            all_labels.append(labels.cpu().numpy())\n",
    "            all_probs.append(probs.cpu().numpy())\n",
    "    \n",
    "    y_true = np.concatenate(all_labels)\n",
    "    y_pred = np.concatenate(all_preds)\n",
    "    y_probs = np.concatenate(all_probs)\n",
    "    \n",
    "    # Calculate metrics\n",
    "    accuracy = balanced_accuracy_score(y_true, y_pred)\n",
    "    roc_auc = roc_auc_score(y_true, y_probs[:, 1])\n",
    "    pr_auc = average_precision_score(y_true, y_probs[:, 1])\n",
    "    mcc = matthews_corrcoef(y_true, y_pred)\n",
    "    kappa = cohen_kappa_score(y_true, y_pred)\n",
    "    \n",
    "    # Confusion matrix metrics\n",
    "    cm = confusion_matrix(y_true, y_pred)\n",
    "    tn, fp, fn, tp = cm.ravel()\n",
    "    sensitivity = tp / (tp + fn)\n",
    "    specificity = tn / (tn + fp)\n",
    "    ppv = tp / (tp + fp)\n",
    "    npv = tn / (tn + fn)\n",
    "    plr = sensitivity / (1 - specificity)\n",
    "    nlr = (1 - sensitivity) / specificity\n",
    "    \n",
    "    # Generate reports\n",
    "    report = classification_report(y_true, y_pred, target_names=['Normal', 'Pneumonia'], output_dict=True)\n",
    "    \n",
    "    # Plot confusion matrix\n",
    "    plt.figure(figsize=(8, 6))\n",
    "    sns.heatmap(cm, annot=True, fmt='d', cmap='Blues',\n",
    "                xticklabels=['Normal', 'Pneumonia'],\n",
    "                yticklabels=['Normal', 'Pneumonia'])\n",
    "    plt.xlabel('Predicted')\n",
    "    plt.ylabel('True')\n",
    "    plt.title('Confusion Matrix')\n",
    "    plt.savefig(f'{Config.PLOTS_DIR}/confusion_matrix.png')\n",
    "    plt.close()\n",
    "    \n",
    "    # Plot ROC curve\n",
    "    fpr, tpr, _ = roc_curve(y_true, y_probs[:, 1])\n",
    "    roc_auc = auc(fpr, tpr)\n",
    "    \n",
    "    plt.figure()\n",
    "    plt.plot(fpr, tpr, color='darkorange', lw=2, label=f'ROC curve (area = {roc_auc:.2f})')\n",
    "    plt.plot([0, 1], [0, 1], color='navy', lw=2, linestyle='--')\n",
    "    plt.xlim([0.0, 1.0])\n",
    "    plt.ylim([0.0, 1.05])\n",
    "    plt.xlabel('False Positive Rate')\n",
    "    plt.ylabel('True Positive Rate')\n",
    "    plt.title('Receiver Operating Characteristic')\n",
    "    plt.legend(loc=\"lower right\")\n",
    "    plt.savefig(f'{Config.PLOTS_DIR}/roc_curve.png')\n",
    "    plt.close()\n",
    "    \n",
    "    return {\n",
    "        'accuracy': accuracy,\n",
    "        'roc_auc': roc_auc,\n",
    "        'pr_auc': pr_auc,\n",
    "        'mcc': mcc,\n",
    "        'kappa': kappa,\n",
    "        'sensitivity': sensitivity,\n",
    "        'specificity': specificity,\n",
    "        'ppv': ppv,\n",
    "        'npv': npv,\n",
    "        'plr': plr,\n",
    "        'nlr': nlr,\n",
    "        'classification_report': report,\n",
    "        'confusion_matrix': cm.tolist()\n",
    "    }\n",
    "\n",
    "def run_kfold_training() -> Dict[str, float]:\n",
    "    \"\"\"Enhanced K-Fold training with better logging and metrics tracking\"\"\"\n",
    "    # Get data loaders\n",
    "    _, _, test_loader = get_dataloaders()\n",
    "    full_dataset = test_loader.dataset.hf_dataset\n",
    "    all_labels = np.array([item['label'] for item in full_dataset])\n",
    "    \n",
    "    # Initialize K-Fold\n",
    "    skf = StratifiedKFold(n_splits=Config.K_FOLDS, shuffle=True, random_state=Config.SEED)\n",
    "    fold_results = []\n",
    "    best_models = []\n",
    "    \n",
    "    for fold, (train_idx, val_idx) in enumerate(skf.split(np.zeros(len(all_labels)), all_labels)):\n",
    "        print(f\"\\n=== Fold {fold + 1}/{Config.K_FOLDS} ===\")\n",
    "        \n",
    "        # Create data loaders with weighted sampling\n",
    "        train_subsampler = Subset(test_loader.dataset, train_idx)\n",
    "        val_subsampler = Subset(test_loader.dataset, val_idx)\n",
    "        \n",
    "        # Handle class imbalance\n",
    "        class_weights = compute_class_weight('balanced', classes=np.unique(all_labels), y=all_labels[train_idx])\n",
    "        sample_weights = class_weights[all_labels[train_idx]]\n",
    "        sampler = WeightedRandomSampler(sample_weights, len(sample_weights), replacement=True)\n",
    "        \n",
    "        train_loader = DataLoader(\n",
    "            train_subsampler,\n",
    "            batch_size=Config.BATCH_SIZE,\n",
    "            sampler=sampler,\n",
    "            collate_fn=custom_collate\n",
    "        )\n",
    "        val_loader = DataLoader(\n",
    "            val_subsampler,\n",
    "            batch_size=Config.BATCH_SIZE,\n",
    "            shuffle=False,\n",
    "            collate_fn=custom_collate\n",
    "        )\n",
    "        \n",
    "        # Initialize model\n",
    "        model = get_model()\n",
    "        device = torch.device(\"cuda\" if torch.cuda.is_available() else \"cpu\")\n",
    "        model.to(device)\n",
    "        \n",
    "        # Optimizer and scheduler\n",
    "        optimizer = optim.AdamW(model.parameters(), \n",
    "                              lr=Config.LR, \n",
    "                              weight_decay=Config.WEIGHT_DECAY)\n",
    "        scheduler = optim.lr_scheduler.CosineAnnealingLR(optimizer, T_max=Config.EPOCHS)\n",
    "        \n",
    "        # Loss function\n",
    "        criterion = LabelSmoothingCrossEntropy()\n",
    "        \n",
    "        # Training tracking\n",
    "        best_val_acc = 0.0\n",
    "        early_stop_counter = 0\n",
    "        history = {'train_loss': [], 'val_loss': [], 'train_acc': [], 'val_acc': []}\n",
    "        \n",
    "        for epoch in range(Config.EPOCHS):\n",
    "            # Train and validate\n",
    "            train_loss, train_acc, _, _ = train_one_epoch(\n",
    "                model, train_loader, criterion, optimizer, device, scheduler\n",
    "            )\n",
    "            val_loss, val_acc, val_preds, val_labels, val_probs = validate(\n",
    "                model, val_loader, criterion, device\n",
    "            )\n",
    "            \n",
    "            # Update history\n",
    "            history['train_loss'].append(train_loss)\n",
    "            history['val_loss'].append(val_loss)\n",
    "            history['train_acc'].append(train_acc)\n",
    "            history['val_acc'].append(val_acc)\n",
    "            \n",
    "            # Print progress\n",
    "            print(f\"Epoch {epoch+1}/{Config.EPOCHS}: \"\n",
    "                  f\"Train Loss: {train_loss:.4f} | Train Acc: {train_acc:.4f} | \"\n",
    "                  f\"Val Loss: {val_loss:.4f} | Val Acc: {val_acc:.4f} | \"\n",
    "                  f\"LR: {optimizer.param_groups[0]['lr']:.2e}\")\n",
    "            \n",
    "            # Early stopping and model checkpointing\n",
    "            if val_acc > best_val_acc:\n",
    "                best_val_acc = val_acc\n",
    "                model_path = f\"{Config.MODEL_CHECKPOINT_DIR}/best_model_fold{fold}.pth\"\n",
    "                torch.save(model.state_dict(), model_path)\n",
    "                early_stop_counter = 0\n",
    "            else:\n",
    "                early_stop_counter += 1\n",
    "                if early_stop_counter >= Config.EARLY_STOP_PATIENCE:\n",
    "                    print(f\"🛑 Early stopping at epoch {epoch+1}\")\n",
    "                    break\n",
    "        \n",
    "        # Store fold results\n",
    "        fold_results.append({\n",
    "            'best_val_acc': best_val_acc,\n",
    "            'history': history,\n",
    "            'model_path': model_path\n",
    "        })\n",
    "        best_models.append(model_path)\n",
    "        \n",
    "        # Plot training history\n",
    "        plt.figure(figsize=(12, 5))\n",
    "        plt.subplot(1, 2, 1)\n",
    "        plt.plot(history['train_loss'], label='Train Loss')\n",
    "        plt.plot(history['val_loss'], label='Val Loss')\n",
    "        plt.title('Loss Curve')\n",
    "        plt.legend()\n",
    "        \n",
    "        plt.subplot(1, 2, 2)\n",
    "        plt.plot(history['train_acc'], label='Train Accuracy')\n",
    "        plt.plot(history['val_acc'], label='Val Accuracy')\n",
    "        plt.title('Accuracy Curve')\n",
    "        plt.legend()\n",
    "        \n",
    "        plt.suptitle(f'Fold {fold + 1} Training History')\n",
    "        plt.savefig(f'{Config.PLOTS_DIR}/fold_{fold}_history.png')\n",
    "        plt.close()\n",
    "        \n",
    "        print(f\"✅ Fold {fold + 1} Complete | Best Val Acc: {best_val_acc:.4f}\")\n",
    "    \n",
    "    # Final evaluation\n",
    "    val_accs = [result['best_val_acc'] for result in fold_results]\n",
    "    print(f\"\\n📊 K-Fold Validation Results: {np.mean(val_accs):.4f} ± {np.std(val_accs):.4f}\")\n",
    "    \n",
    "    # Evaluate on test set using best model\n",
    "    best_fold = np.argmax(val_accs)\n",
    "    best_model_path = fold_results[best_fold]['model_path']\n",
    "    model = get_model().to(device)\n",
    "    model.load_state_dict(torch.load(best_model_path))\n",
    "    \n",
    "    test_metrics = evaluate(model, test_loader, device)\n",
    "    print(f\"\\n🏆 Test Set Performance:\")\n",
    "    print(f\"Balanced Accuracy: {test_metrics['accuracy']:.4f}\")\n",
    "    print(f\"ROC AUC: {test_metrics['roc_auc']:.4f}\")\n",
    "    print(f\"MCC: {test_metrics['mcc']:.4f}\")\n",
    "    print(f\"Sensitivity: {test_metrics['sensitivity']:.4f}\")\n",
    "    print(f\"Specificity: {test_metrics['specificity']:.4f}\")\n",
    "    \n",
    "    return {\n",
    "        'fold_results': fold_results,\n",
    "        'test_metrics': test_metrics,\n",
    "        'best_model_path': best_model_path\n",
    "    }\n",
    "\n",
    "if __name__ == \"__main__\":\n",
    "    results = run_kfold_training()"
   ]
  },
  {
   "cell_type": "code",
   "execution_count": 5,
   "id": "8fd48bff-1d18-42b8-87f3-d731a21d9ecc",
   "metadata": {},
   "outputs": [
    {
     "data": {
      "text/plain": [
       "'checkpoints/best_model_fold1.pth'"
      ]
     },
     "execution_count": 5,
     "metadata": {},
     "output_type": "execute_result"
    }
   ],
   "source": [
    "results['best_model_path']"
   ]
  },
  {
   "cell_type": "code",
   "execution_count": 6,
   "id": "d06faf28-087d-458d-8d6c-cc42bfb2fb64",
   "metadata": {
    "scrolled": true
   },
   "outputs": [
    {
     "data": {
      "text/plain": [
       "{'accuracy': 0.9965811965811966,\n",
       " 'roc_auc': 0.9999342537804077,\n",
       " 'pr_auc': 0.9999605175990164,\n",
       " 'mcc': 0.9931623931623932,\n",
       " 'kappa': 0.9931623931623932,\n",
       " 'sensitivity': 0.9974358974358974,\n",
       " 'specificity': 0.9957264957264957,\n",
       " 'ppv': 0.9974358974358974,\n",
       " 'npv': 0.9957264957264957,\n",
       " 'plr': 233.40000000000083,\n",
       " 'nlr': 0.00257510729613733,\n",
       " 'classification_report': {'Normal': {'precision': 0.9957264957264957,\n",
       "   'recall': 0.9957264957264957,\n",
       "   'f1-score': 0.9957264957264957,\n",
       "   'support': 234.0},\n",
       "  'Pneumonia': {'precision': 0.9974358974358974,\n",
       "   'recall': 0.9974358974358974,\n",
       "   'f1-score': 0.9974358974358974,\n",
       "   'support': 390.0},\n",
       "  'accuracy': 0.9967948717948718,\n",
       "  'macro avg': {'precision': 0.9965811965811966,\n",
       "   'recall': 0.9965811965811966,\n",
       "   'f1-score': 0.9965811965811966,\n",
       "   'support': 624.0},\n",
       "  'weighted avg': {'precision': 0.9967948717948718,\n",
       "   'recall': 0.9967948717948718,\n",
       "   'f1-score': 0.9967948717948718,\n",
       "   'support': 624.0}},\n",
       " 'confusion_matrix': [[233, 1], [1, 389]]}"
      ]
     },
     "execution_count": 6,
     "metadata": {},
     "output_type": "execute_result"
    }
   ],
   "source": [
    " results['test_metrics']"
   ]
  }
 ],
 "metadata": {
  "kernelspec": {
   "display_name": "Python 3 (ipykernel)",
   "language": "python",
   "name": "python3"
  },
  "language_info": {
   "codemirror_mode": {
    "name": "ipython",
    "version": 3
   },
   "file_extension": ".py",
   "mimetype": "text/x-python",
   "name": "python",
   "nbconvert_exporter": "python",
   "pygments_lexer": "ipython3",
   "version": "3.12.10"
  }
 },
 "nbformat": 4,
 "nbformat_minor": 5
}
