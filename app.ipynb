{
 "cells": [
  {
   "cell_type": "code",
   "execution_count": 1,
   "id": "52d79593-ec0c-49ff-9044-a79eefebc507",
   "metadata": {},
   "outputs": [],
   "source": [
    "import streamlit as st\n",
    "import requests\n",
    "from PIL import Image\n",
    "import matplotlib.pyplot as plt\n",
    "import seaborn as sns\n",
    "import pandas as pd\n",
    "import numpy as np\n",
    "import os"
   ]
  },
  {
   "cell_type": "code",
   "execution_count": 2,
   "id": "473d8d1b-8af2-487f-be26-a4093fded585",
   "metadata": {},
   "outputs": [
    {
     "name": "stderr",
     "output_type": "stream",
     "text": [
      "2025-06-03 14:54:36.400 WARNING streamlit.runtime.scriptrunner_utils.script_run_context: Thread 'MainThread': missing ScriptRunContext! This warning can be ignored when running in bare mode.\n",
      "2025-06-03 14:54:36.402 WARNING streamlit.runtime.scriptrunner_utils.script_run_context: Thread 'MainThread': missing ScriptRunContext! This warning can be ignored when running in bare mode.\n",
      "2025-06-03 14:54:36.464 \n",
      "  \u001b[33m\u001b[1mWarning:\u001b[0m to view this Streamlit app on a browser, run it with the following\n",
      "  command:\n",
      "\n",
      "    streamlit run /opt/conda/lib/python3.12/site-packages/ipykernel_launcher.py [ARGUMENTS]\n",
      "2025-06-03 14:54:36.465 Thread 'MainThread': missing ScriptRunContext! This warning can be ignored when running in bare mode.\n"
     ]
    },
    {
     "data": {
      "text/plain": [
       "DeltaGenerator()"
      ]
     },
     "execution_count": 2,
     "metadata": {},
     "output_type": "execute_result"
    }
   ],
   "source": [
    "# Title and layout\n",
    "st.set_page_config(page_title=\"Pneumonia X-ray Classifier\", layout=\"wide\")\n",
    "st.title(\"🩺 Chest X-ray Pneumonia Detector\")"
   ]
  },
  {
   "cell_type": "code",
   "execution_count": 3,
   "id": "9ebbdf49-2214-46d1-8d19-b18244fe477b",
   "metadata": {},
   "outputs": [
    {
     "name": "stderr",
     "output_type": "stream",
     "text": [
      "2025-06-03 14:56:53.223 Thread 'MainThread': missing ScriptRunContext! This warning can be ignored when running in bare mode.\n",
      "2025-06-03 14:56:53.224 Thread 'MainThread': missing ScriptRunContext! This warning can be ignored when running in bare mode.\n",
      "2025-06-03 14:56:53.225 Thread 'MainThread': missing ScriptRunContext! This warning can be ignored when running in bare mode.\n",
      "2025-06-03 14:56:53.226 Thread 'MainThread': missing ScriptRunContext! This warning can be ignored when running in bare mode.\n",
      "2025-06-03 14:56:53.226 Thread 'MainThread': missing ScriptRunContext! This warning can be ignored when running in bare mode.\n",
      "2025-06-03 14:56:53.227 Thread 'MainThread': missing ScriptRunContext! This warning can be ignored when running in bare mode.\n",
      "2025-06-03 14:56:53.227 Thread 'MainThread': missing ScriptRunContext! This warning can be ignored when running in bare mode.\n",
      "2025-06-03 14:56:53.227 Thread 'MainThread': missing ScriptRunContext! This warning can be ignored when running in bare mode.\n",
      "2025-06-03 14:56:53.228 Thread 'MainThread': missing ScriptRunContext! This warning can be ignored when running in bare mode.\n"
     ]
    },
    {
     "ename": "FileNotFoundError",
     "evalue": "[Errno 2] No such file or directory: 'plots/samples/'",
     "output_type": "error",
     "traceback": [
      "\u001b[31m---------------------------------------------------------------------------\u001b[39m",
      "\u001b[31mFileNotFoundError\u001b[39m                         Traceback (most recent call last)",
      "\u001b[36mCell\u001b[39m\u001b[36m \u001b[39m\u001b[32mIn[3]\u001b[39m\u001b[32m, line 10\u001b[39m\n\u001b[32m      7\u001b[39m sample_images_dir = \u001b[33m\"\u001b[39m\u001b[33mplots/samples/\u001b[39m\u001b[33m\"\u001b[39m\n\u001b[32m      9\u001b[39m col1, col2 = st.columns(\u001b[32m2\u001b[39m)\n\u001b[32m---> \u001b[39m\u001b[32m10\u001b[39m \u001b[38;5;28;01mfor\u001b[39;00m i, img_file \u001b[38;5;129;01min\u001b[39;00m \u001b[38;5;28menumerate\u001b[39m(\u001b[43mos\u001b[49m\u001b[43m.\u001b[49m\u001b[43mlistdir\u001b[49m\u001b[43m(\u001b[49m\u001b[43msample_images_dir\u001b[49m\u001b[43m)\u001b[49m[:\u001b[32m4\u001b[39m]):\n\u001b[32m     11\u001b[39m     path = os.path.join(sample_images_dir, img_file)\n\u001b[32m     12\u001b[39m     img = Image.open(path).convert(\u001b[33m\"\u001b[39m\u001b[33mRGB\u001b[39m\u001b[33m\"\u001b[39m)\n",
      "\u001b[31mFileNotFoundError\u001b[39m: [Errno 2] No such file or directory: 'plots/samples/'"
     ]
    }
   ],
   "source": [
    "# Tabs\n",
    "tab1, tab2, tab3 = st.tabs([\"📊 Dataset Overview\", \"📈 Training & Metrics\", \"📷 Predict New X-ray\"])\n",
    "\n",
    "# --- Tab 1: Dataset Overview ---\n",
    "with tab1:\n",
    "    st.header(\"🖼️ Sample Images\")\n",
    "    sample_images_dir = \"plots/samples/\"\n",
    "    \n",
    "    col1, col2 = st.columns(2)\n",
    "    for i, img_file in enumerate(os.listdir(sample_images_dir)[:4]):\n",
    "        path = os.path.join(sample_images_dir, img_file)\n",
    "        img = Image.open(path).convert(\"RGB\")\n",
    "        if i % 2 == 0:\n",
    "            col1.image(img, caption=img_file, use_column_width=True)\n",
    "        else:\n",
    "            col2.image(img, caption=img_file, use_column_width=True)\n",
    "\n",
    "    st.header(\"📉 Pixel Intensity Histogram\")\n",
    "    st.image(\"plots/pixel_intensity.png\", use_column_width=True)\n",
    "\n",
    "    st.header(\"📦 Class Distribution\")\n",
    "    st.image(\"plots/class_distribution.png\", use_column_width=True)\n",
    "\n",
    "# --- Tab 2: Training & Evaluation Results ---\n",
    "with tab2:\n",
    "    st.header(\"📉 Training Curves\")\n",
    "    st.image(\"plots/training_loss.png\", caption=\"Loss Curve\", use_column_width=True)\n",
    "    st.image(\"plots/training_accuracy.png\", caption=\"Accuracy Curve\", use_column_width=True)\n",
    "\n",
    "    st.header(\"🧪 Evaluation Metrics\")\n",
    "    metrics_df = pd.read_csv(\"evaluation_results.csv\")\n",
    "    st.table(metrics_df.style.format({\"Value\": \"{:.4f}\"}))\n",
    "\n",
    "    st.header(\"ROC & PR Curves\")\n",
    "    st.image(\"plots/roc_curve.png\", use_column_width=True)\n",
    "    st.image(\"plots/pr_curve.png\", use_column_width=True)\n",
    "\n",
    "    st.header(\"🔍 Confusion Matrix\")\n",
    "    st.image(\"plots/confusion_matrix.png\", use_column_width=True)\n",
    "\n",
    "# --- Tab 3: Upload & Predict ---\n",
    "with tab3:\n",
    "    st.header(\"📤 Upload X-ray Image\")\n",
    "    uploaded_file = st.file_uploader(\"Choose an X-ray image\", type=[\"jpg\", \"png\", \"jpeg\"])\n",
    "\n",
    "    if uploaded_file is not None:\n",
    "        # Display uploaded image\n",
    "        image = Image.open(uploaded_file).convert(\"RGB\")\n",
    "        st.image(image, caption=\"Uploaded X-ray\", use_column_width=True)\n",
    "\n",
    "        # Send to FastAPI\n",
    "        files = {\"file\": uploaded_file.getvalue()}\n",
    "        response = requests.post(\"http://localhost:8000/predict/\", files={\"file\": uploaded_file})\n",
    "        result = response.json()\n",
    "\n",
    "        # Show prediction\n",
    "        st.subheader(f\"🧠 Prediction: {result['pred_class']}\")\n",
    "        st.progress(result[\"confidence_pneumonia\"])\n",
    "        st.write(f\"Pneumonia Confidence: {result['confidence_pneumonia']:.2%}\")\n",
    "\n",
    "        # Show Grad-CAM\n",
    "        st.header(\"🔎 Grad-CAM Overlay\")\n",
    "        cam_img_data = bytes.fromhex(result['image'])\n",
    "        cam_img = Image.open(io.BytesIO(cam_img_data))\n",
    "        st.image(cam_img, caption=\"Grad-CAM Visualization\", use_column_width=True)"
   ]
  },
  {
   "cell_type": "code",
   "execution_count": null,
   "id": "d5c4e63b-40b9-4fb9-8d2e-10115575ae1f",
   "metadata": {},
   "outputs": [],
   "source": []
  }
 ],
 "metadata": {
  "kernelspec": {
   "display_name": "Python 3 (ipykernel)",
   "language": "python",
   "name": "python3"
  },
  "language_info": {
   "codemirror_mode": {
    "name": "ipython",
    "version": 3
   },
   "file_extension": ".py",
   "mimetype": "text/x-python",
   "name": "python",
   "nbconvert_exporter": "python",
   "pygments_lexer": "ipython3",
   "version": "3.10.17"
  }
 },
 "nbformat": 4,
 "nbformat_minor": 5
}
